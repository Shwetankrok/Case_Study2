{
 "cells": [
  {
   "cell_type": "markdown",
   "id": "endless-pastor",
   "metadata": {},
   "source": [
    "# Case Study 2"
   ]
  },
  {
   "cell_type": "code",
   "execution_count": 1,
   "id": "renewable-plate",
   "metadata": {},
   "outputs": [],
   "source": [
    "import pandas as pd\n",
    "import numpy as np\n",
    "import matplotlib.pyplot as plt\n",
    "import seaborn as sns"
   ]
  },
  {
   "cell_type": "code",
   "execution_count": 2,
   "id": "parliamentary-reproduction",
   "metadata": {},
   "outputs": [],
   "source": [
    "data=pd.read_csv(\"C:/Users/shwer/OneDrive/Desktop/archive/casestudy.csv\")"
   ]
  },
  {
   "cell_type": "code",
   "execution_count": 3,
   "id": "present-smart",
   "metadata": {},
   "outputs": [
    {
     "data": {
      "text/html": [
       "<div>\n",
       "<style scoped>\n",
       "    .dataframe tbody tr th:only-of-type {\n",
       "        vertical-align: middle;\n",
       "    }\n",
       "\n",
       "    .dataframe tbody tr th {\n",
       "        vertical-align: top;\n",
       "    }\n",
       "\n",
       "    .dataframe thead th {\n",
       "        text-align: right;\n",
       "    }\n",
       "</style>\n",
       "<table border=\"1\" class=\"dataframe\">\n",
       "  <thead>\n",
       "    <tr style=\"text-align: right;\">\n",
       "      <th></th>\n",
       "      <th>Unnamed: 0</th>\n",
       "      <th>customer_email</th>\n",
       "      <th>net_revenue</th>\n",
       "      <th>year</th>\n",
       "    </tr>\n",
       "  </thead>\n",
       "  <tbody>\n",
       "    <tr>\n",
       "      <th>0</th>\n",
       "      <td>0</td>\n",
       "      <td>nhknapwsbx@gmail.com</td>\n",
       "      <td>249.92</td>\n",
       "      <td>2015</td>\n",
       "    </tr>\n",
       "    <tr>\n",
       "      <th>1</th>\n",
       "      <td>1</td>\n",
       "      <td>joiuzbvcpn@gmail.com</td>\n",
       "      <td>87.61</td>\n",
       "      <td>2015</td>\n",
       "    </tr>\n",
       "    <tr>\n",
       "      <th>2</th>\n",
       "      <td>2</td>\n",
       "      <td>ukkjctepxt@gmail.com</td>\n",
       "      <td>168.38</td>\n",
       "      <td>2015</td>\n",
       "    </tr>\n",
       "    <tr>\n",
       "      <th>3</th>\n",
       "      <td>3</td>\n",
       "      <td>gykatilzrt@gmail.com</td>\n",
       "      <td>62.40</td>\n",
       "      <td>2015</td>\n",
       "    </tr>\n",
       "    <tr>\n",
       "      <th>4</th>\n",
       "      <td>4</td>\n",
       "      <td>mmsgsrtxah@gmail.com</td>\n",
       "      <td>43.08</td>\n",
       "      <td>2015</td>\n",
       "    </tr>\n",
       "  </tbody>\n",
       "</table>\n",
       "</div>"
      ],
      "text/plain": [
       "   Unnamed: 0         customer_email  net_revenue  year\n",
       "0           0   nhknapwsbx@gmail.com       249.92  2015\n",
       "1           1   joiuzbvcpn@gmail.com        87.61  2015\n",
       "2           2   ukkjctepxt@gmail.com       168.38  2015\n",
       "3           3   gykatilzrt@gmail.com        62.40  2015\n",
       "4           4   mmsgsrtxah@gmail.com        43.08  2015"
      ]
     },
     "execution_count": 3,
     "metadata": {},
     "output_type": "execute_result"
    }
   ],
   "source": [
    "data.head()"
   ]
  },
  {
   "cell_type": "code",
   "execution_count": 4,
   "id": "grateful-interpretation",
   "metadata": {},
   "outputs": [],
   "source": [
    "# Answering question"
   ]
  },
  {
   "cell_type": "markdown",
   "id": "configured-companion",
   "metadata": {},
   "source": [
    "# 1: Total revenue for the current year"
   ]
  },
  {
   "cell_type": "code",
   "execution_count": 5,
   "id": "contemporary-raleigh",
   "metadata": {},
   "outputs": [
    {
     "name": "stdout",
     "output_type": "stream",
     "text": [
      "year\n",
      "2015    29036749.19\n",
      "2016    25730943.59\n",
      "2017    31417495.03\n",
      "Name: net_revenue, dtype: float64\n"
     ]
    }
   ],
   "source": [
    "\n",
    "yearly_sales = data.groupby(['year'])['net_revenue'].sum() #sum function\n",
    "print(yearly_sales)"
   ]
  },
  {
   "cell_type": "code",
   "execution_count": 6,
   "id": "tired-glasgow",
   "metadata": {},
   "outputs": [],
   "source": [
    "year_sales=yearly_sales.to_frame() # Since it is a Series conmverting to Dataframe to plot further"
   ]
  },
  {
   "cell_type": "code",
   "execution_count": 7,
   "id": "severe-arizona",
   "metadata": {},
   "outputs": [
    {
     "data": {
      "text/html": [
       "<div>\n",
       "<style scoped>\n",
       "    .dataframe tbody tr th:only-of-type {\n",
       "        vertical-align: middle;\n",
       "    }\n",
       "\n",
       "    .dataframe tbody tr th {\n",
       "        vertical-align: top;\n",
       "    }\n",
       "\n",
       "    .dataframe thead th {\n",
       "        text-align: right;\n",
       "    }\n",
       "</style>\n",
       "<table border=\"1\" class=\"dataframe\">\n",
       "  <thead>\n",
       "    <tr style=\"text-align: right;\">\n",
       "      <th></th>\n",
       "      <th>net_revenue</th>\n",
       "    </tr>\n",
       "    <tr>\n",
       "      <th>year</th>\n",
       "      <th></th>\n",
       "    </tr>\n",
       "  </thead>\n",
       "  <tbody>\n",
       "    <tr>\n",
       "      <th>2015</th>\n",
       "      <td>29036749.19</td>\n",
       "    </tr>\n",
       "    <tr>\n",
       "      <th>2016</th>\n",
       "      <td>25730943.59</td>\n",
       "    </tr>\n",
       "    <tr>\n",
       "      <th>2017</th>\n",
       "      <td>31417495.03</td>\n",
       "    </tr>\n",
       "  </tbody>\n",
       "</table>\n",
       "</div>"
      ],
      "text/plain": [
       "      net_revenue\n",
       "year             \n",
       "2015  29036749.19\n",
       "2016  25730943.59\n",
       "2017  31417495.03"
      ]
     },
     "execution_count": 7,
     "metadata": {},
     "output_type": "execute_result"
    }
   ],
   "source": [
    "year_sales"
   ]
  },
  {
   "cell_type": "code",
   "execution_count": 8,
   "id": "closing-sculpture",
   "metadata": {},
   "outputs": [],
   "source": [
    "year_sales.reset_index(inplace=True)"
   ]
  },
  {
   "cell_type": "code",
   "execution_count": 9,
   "id": "internal-default",
   "metadata": {},
   "outputs": [
    {
     "data": {
      "text/html": [
       "<div>\n",
       "<style scoped>\n",
       "    .dataframe tbody tr th:only-of-type {\n",
       "        vertical-align: middle;\n",
       "    }\n",
       "\n",
       "    .dataframe tbody tr th {\n",
       "        vertical-align: top;\n",
       "    }\n",
       "\n",
       "    .dataframe thead th {\n",
       "        text-align: right;\n",
       "    }\n",
       "</style>\n",
       "<table border=\"1\" class=\"dataframe\">\n",
       "  <thead>\n",
       "    <tr style=\"text-align: right;\">\n",
       "      <th></th>\n",
       "      <th>year</th>\n",
       "      <th>net_revenue</th>\n",
       "    </tr>\n",
       "  </thead>\n",
       "  <tbody>\n",
       "    <tr>\n",
       "      <th>0</th>\n",
       "      <td>2015</td>\n",
       "      <td>29036749.19</td>\n",
       "    </tr>\n",
       "    <tr>\n",
       "      <th>1</th>\n",
       "      <td>2016</td>\n",
       "      <td>25730943.59</td>\n",
       "    </tr>\n",
       "    <tr>\n",
       "      <th>2</th>\n",
       "      <td>2017</td>\n",
       "      <td>31417495.03</td>\n",
       "    </tr>\n",
       "  </tbody>\n",
       "</table>\n",
       "</div>"
      ],
      "text/plain": [
       "   year  net_revenue\n",
       "0  2015  29036749.19\n",
       "1  2016  25730943.59\n",
       "2  2017  31417495.03"
      ]
     },
     "execution_count": 9,
     "metadata": {},
     "output_type": "execute_result"
    }
   ],
   "source": [
    "year_sales"
   ]
  },
  {
   "cell_type": "code",
   "execution_count": 10,
   "id": "loved-death",
   "metadata": {},
   "outputs": [
    {
     "data": {
      "text/plain": [
       "<AxesSubplot:xlabel='year', ylabel='net_revenue'>"
      ]
     },
     "execution_count": 10,
     "metadata": {},
     "output_type": "execute_result"
    },
    {
     "data": {
      "image/png": "[encoded data removed]",
      "text/plain": [
       "<Figure size 432x288 with 1 Axes>"
      ]
     },
     "metadata": {
      "needs_background": "light"
     },
     "output_type": "display_data"
    }
   ],
   "source": [
    "sns.barplot(x='year',y='net_revenue',hue='year',data=year_sales)"
   ]
  },
  {
   "cell_type": "markdown",
   "id": "korean-recipient",
   "metadata": {},
   "source": [
    "# Observations: \n",
    "<b><br> 2017 year has highest Net Revenue 31 M while 2016 has lowest Net Revenue of 25 M </br></b>"
   ]
  },
  {
   "cell_type": "code",
   "execution_count": 11,
   "id": "supposed-belief",
   "metadata": {},
   "outputs": [],
   "source": [
    "# Question2: New Customer Revenue \n",
    "# Finding Net Revenue of new customers only which are not present in previous years"
   ]
  },
  {
   "cell_type": "code",
   "execution_count": 12,
   "id": "hidden-psychiatry",
   "metadata": {},
   "outputs": [],
   "source": [
    "g1=data.groupby(['year','customer_email'])['net_revenue'].sum()"
   ]
  },
  {
   "cell_type": "code",
   "execution_count": 13,
   "id": "immediate-gender",
   "metadata": {},
   "outputs": [
    {
     "data": {
      "text/plain": [
       "year  customer_email       \n",
       "2015   aaagldjgdt@gmail.com     44.72\n",
       "       aaaicvtnzx@gmail.com     49.20\n",
       "       aaaihliwuo@gmail.com    248.67\n",
       "       aaaqpobaaa@gmail.com    126.83\n",
       "       aaatyrafec@gmail.com     65.28\n",
       "                                ...  \n",
       "2017  zzzdnukepj@gmail.com      81.99\n",
       "      zzzeehgitl@gmail.com      65.98\n",
       "      zzzmkaruhf@gmail.com     202.77\n",
       "      zzznqseiwv@gmail.com     162.24\n",
       "      zzzoxtrfic@gmail.com      15.74\n",
       "Name: net_revenue, Length: 685927, dtype: float64"
      ]
     },
     "execution_count": 13,
     "metadata": {},
     "output_type": "execute_result"
    }
   ],
   "source": [
    "g1"
   ]
  },
  {
   "cell_type": "code",
   "execution_count": 14,
   "id": "bigger-fusion",
   "metadata": {},
   "outputs": [],
   "source": [
    "g1.to_csv(\"C:/Users/shwer/OneDrive/Desktop/archive/yearly_revenue_cust.csv\")"
   ]
  },
  {
   "cell_type": "code",
   "execution_count": 15,
   "id": "subtle-quilt",
   "metadata": {},
   "outputs": [],
   "source": [
    "df=pd.read_csv(\"C:/Users/shwer/OneDrive/Desktop/archive/yearly_revenue_cust.csv\")"
   ]
  },
  {
   "cell_type": "code",
   "execution_count": 16,
   "id": "environmental-clark",
   "metadata": {},
   "outputs": [
    {
     "data": {
      "text/html": [
       "<div>\n",
       "<style scoped>\n",
       "    .dataframe tbody tr th:only-of-type {\n",
       "        vertical-align: middle;\n",
       "    }\n",
       "\n",
       "    .dataframe tbody tr th {\n",
       "        vertical-align: top;\n",
       "    }\n",
       "\n",
       "    .dataframe thead th {\n",
       "        text-align: right;\n",
       "    }\n",
       "</style>\n",
       "<table border=\"1\" class=\"dataframe\">\n",
       "  <thead>\n",
       "    <tr style=\"text-align: right;\">\n",
       "      <th></th>\n",
       "      <th>year</th>\n",
       "      <th>customer_email</th>\n",
       "      <th>net_revenue</th>\n",
       "    </tr>\n",
       "  </thead>\n",
       "  <tbody>\n",
       "    <tr>\n",
       "      <th>0</th>\n",
       "      <td>2015</td>\n",
       "      <td>aaagldjgdt@gmail.com</td>\n",
       "      <td>44.72</td>\n",
       "    </tr>\n",
       "    <tr>\n",
       "      <th>1</th>\n",
       "      <td>2015</td>\n",
       "      <td>aaaicvtnzx@gmail.com</td>\n",
       "      <td>49.20</td>\n",
       "    </tr>\n",
       "    <tr>\n",
       "      <th>2</th>\n",
       "      <td>2015</td>\n",
       "      <td>aaaihliwuo@gmail.com</td>\n",
       "      <td>248.67</td>\n",
       "    </tr>\n",
       "    <tr>\n",
       "      <th>3</th>\n",
       "      <td>2015</td>\n",
       "      <td>aaaqpobaaa@gmail.com</td>\n",
       "      <td>126.83</td>\n",
       "    </tr>\n",
       "    <tr>\n",
       "      <th>4</th>\n",
       "      <td>2015</td>\n",
       "      <td>aaatyrafec@gmail.com</td>\n",
       "      <td>65.28</td>\n",
       "    </tr>\n",
       "    <tr>\n",
       "      <th>...</th>\n",
       "      <td>...</td>\n",
       "      <td>...</td>\n",
       "      <td>...</td>\n",
       "    </tr>\n",
       "    <tr>\n",
       "      <th>685922</th>\n",
       "      <td>2017</td>\n",
       "      <td>zzzdnukepj@gmail.com</td>\n",
       "      <td>81.99</td>\n",
       "    </tr>\n",
       "    <tr>\n",
       "      <th>685923</th>\n",
       "      <td>2017</td>\n",
       "      <td>zzzeehgitl@gmail.com</td>\n",
       "      <td>65.98</td>\n",
       "    </tr>\n",
       "    <tr>\n",
       "      <th>685924</th>\n",
       "      <td>2017</td>\n",
       "      <td>zzzmkaruhf@gmail.com</td>\n",
       "      <td>202.77</td>\n",
       "    </tr>\n",
       "    <tr>\n",
       "      <th>685925</th>\n",
       "      <td>2017</td>\n",
       "      <td>zzznqseiwv@gmail.com</td>\n",
       "      <td>162.24</td>\n",
       "    </tr>\n",
       "    <tr>\n",
       "      <th>685926</th>\n",
       "      <td>2017</td>\n",
       "      <td>zzzoxtrfic@gmail.com</td>\n",
       "      <td>15.74</td>\n",
       "    </tr>\n",
       "  </tbody>\n",
       "</table>\n",
       "<p>685927 rows × 3 columns</p>\n",
       "</div>"
      ],
      "text/plain": [
       "        year         customer_email  net_revenue\n",
       "0       2015   aaagldjgdt@gmail.com        44.72\n",
       "1       2015   aaaicvtnzx@gmail.com        49.20\n",
       "2       2015   aaaihliwuo@gmail.com       248.67\n",
       "3       2015   aaaqpobaaa@gmail.com       126.83\n",
       "4       2015   aaatyrafec@gmail.com        65.28\n",
       "...      ...                    ...          ...\n",
       "685922  2017   zzzdnukepj@gmail.com        81.99\n",
       "685923  2017   zzzeehgitl@gmail.com        65.98\n",
       "685924  2017   zzzmkaruhf@gmail.com       202.77\n",
       "685925  2017   zzznqseiwv@gmail.com       162.24\n",
       "685926  2017   zzzoxtrfic@gmail.com        15.74\n",
       "\n",
       "[685927 rows x 3 columns]"
      ]
     },
     "execution_count": 16,
     "metadata": {},
     "output_type": "execute_result"
    }
   ],
   "source": [
    "df"
   ]
  },
  {
   "cell_type": "code",
   "execution_count": 17,
   "id": "obvious-programmer",
   "metadata": {},
   "outputs": [],
   "source": [
    "# Reference: https://stackoverflow.com/questions/53672456/finding-new-existing-customers-from-a-dataframe\n",
    "# Findind duplicates\n",
    "a=df.assign(Occurence=np.where(~df['customer_email'].duplicated(),'New','Existing'))"
   ]
  },
  {
   "cell_type": "code",
   "execution_count": 18,
   "id": "featured-catering",
   "metadata": {},
   "outputs": [
    {
     "data": {
      "text/html": [
       "<div>\n",
       "<style scoped>\n",
       "    .dataframe tbody tr th:only-of-type {\n",
       "        vertical-align: middle;\n",
       "    }\n",
       "\n",
       "    .dataframe tbody tr th {\n",
       "        vertical-align: top;\n",
       "    }\n",
       "\n",
       "    .dataframe thead th {\n",
       "        text-align: right;\n",
       "    }\n",
       "</style>\n",
       "<table border=\"1\" class=\"dataframe\">\n",
       "  <thead>\n",
       "    <tr style=\"text-align: right;\">\n",
       "      <th></th>\n",
       "      <th>year</th>\n",
       "      <th>customer_email</th>\n",
       "      <th>net_revenue</th>\n",
       "      <th>Occurence</th>\n",
       "    </tr>\n",
       "  </thead>\n",
       "  <tbody>\n",
       "    <tr>\n",
       "      <th>0</th>\n",
       "      <td>2015</td>\n",
       "      <td>aaagldjgdt@gmail.com</td>\n",
       "      <td>44.72</td>\n",
       "      <td>New</td>\n",
       "    </tr>\n",
       "    <tr>\n",
       "      <th>1</th>\n",
       "      <td>2015</td>\n",
       "      <td>aaaicvtnzx@gmail.com</td>\n",
       "      <td>49.20</td>\n",
       "      <td>New</td>\n",
       "    </tr>\n",
       "    <tr>\n",
       "      <th>2</th>\n",
       "      <td>2015</td>\n",
       "      <td>aaaihliwuo@gmail.com</td>\n",
       "      <td>248.67</td>\n",
       "      <td>New</td>\n",
       "    </tr>\n",
       "    <tr>\n",
       "      <th>3</th>\n",
       "      <td>2015</td>\n",
       "      <td>aaaqpobaaa@gmail.com</td>\n",
       "      <td>126.83</td>\n",
       "      <td>New</td>\n",
       "    </tr>\n",
       "    <tr>\n",
       "      <th>4</th>\n",
       "      <td>2015</td>\n",
       "      <td>aaatyrafec@gmail.com</td>\n",
       "      <td>65.28</td>\n",
       "      <td>New</td>\n",
       "    </tr>\n",
       "    <tr>\n",
       "      <th>...</th>\n",
       "      <td>...</td>\n",
       "      <td>...</td>\n",
       "      <td>...</td>\n",
       "      <td>...</td>\n",
       "    </tr>\n",
       "    <tr>\n",
       "      <th>685922</th>\n",
       "      <td>2017</td>\n",
       "      <td>zzzdnukepj@gmail.com</td>\n",
       "      <td>81.99</td>\n",
       "      <td>New</td>\n",
       "    </tr>\n",
       "    <tr>\n",
       "      <th>685923</th>\n",
       "      <td>2017</td>\n",
       "      <td>zzzeehgitl@gmail.com</td>\n",
       "      <td>65.98</td>\n",
       "      <td>New</td>\n",
       "    </tr>\n",
       "    <tr>\n",
       "      <th>685924</th>\n",
       "      <td>2017</td>\n",
       "      <td>zzzmkaruhf@gmail.com</td>\n",
       "      <td>202.77</td>\n",
       "      <td>New</td>\n",
       "    </tr>\n",
       "    <tr>\n",
       "      <th>685925</th>\n",
       "      <td>2017</td>\n",
       "      <td>zzznqseiwv@gmail.com</td>\n",
       "      <td>162.24</td>\n",
       "      <td>New</td>\n",
       "    </tr>\n",
       "    <tr>\n",
       "      <th>685926</th>\n",
       "      <td>2017</td>\n",
       "      <td>zzzoxtrfic@gmail.com</td>\n",
       "      <td>15.74</td>\n",
       "      <td>New</td>\n",
       "    </tr>\n",
       "  </tbody>\n",
       "</table>\n",
       "<p>685927 rows × 4 columns</p>\n",
       "</div>"
      ],
      "text/plain": [
       "        year         customer_email  net_revenue Occurence\n",
       "0       2015   aaagldjgdt@gmail.com        44.72       New\n",
       "1       2015   aaaicvtnzx@gmail.com        49.20       New\n",
       "2       2015   aaaihliwuo@gmail.com       248.67       New\n",
       "3       2015   aaaqpobaaa@gmail.com       126.83       New\n",
       "4       2015   aaatyrafec@gmail.com        65.28       New\n",
       "...      ...                    ...          ...       ...\n",
       "685922  2017   zzzdnukepj@gmail.com        81.99       New\n",
       "685923  2017   zzzeehgitl@gmail.com        65.98       New\n",
       "685924  2017   zzzmkaruhf@gmail.com       202.77       New\n",
       "685925  2017   zzznqseiwv@gmail.com       162.24       New\n",
       "685926  2017   zzzoxtrfic@gmail.com        15.74       New\n",
       "\n",
       "[685927 rows x 4 columns]"
      ]
     },
     "execution_count": 18,
     "metadata": {},
     "output_type": "execute_result"
    }
   ],
   "source": [
    "a"
   ]
  },
  {
   "cell_type": "code",
   "execution_count": 19,
   "id": "herbal-advice",
   "metadata": {},
   "outputs": [
    {
     "data": {
      "text/html": [
       "<div>\n",
       "<style scoped>\n",
       "    .dataframe tbody tr th:only-of-type {\n",
       "        vertical-align: middle;\n",
       "    }\n",
       "\n",
       "    .dataframe tbody tr th {\n",
       "        vertical-align: top;\n",
       "    }\n",
       "\n",
       "    .dataframe thead th {\n",
       "        text-align: right;\n",
       "    }\n",
       "</style>\n",
       "<table border=\"1\" class=\"dataframe\">\n",
       "  <thead>\n",
       "    <tr style=\"text-align: right;\">\n",
       "      <th></th>\n",
       "      <th>year</th>\n",
       "      <th>customer_email</th>\n",
       "      <th>net_revenue</th>\n",
       "      <th>Occurence</th>\n",
       "    </tr>\n",
       "  </thead>\n",
       "  <tbody>\n",
       "  </tbody>\n",
       "</table>\n",
       "</div>"
      ],
      "text/plain": [
       "Empty DataFrame\n",
       "Columns: [year, customer_email, net_revenue, Occurence]\n",
       "Index: []"
      ]
     },
     "execution_count": 19,
     "metadata": {},
     "output_type": "execute_result"
    }
   ],
   "source": [
    "a[(a['customer_email']=='aaaqpobaaa@gmail.com')]"
   ]
  },
  {
   "cell_type": "code",
   "execution_count": 20,
   "id": "entitled-chart",
   "metadata": {},
   "outputs": [],
   "source": [
    "x=a[a['Occurence']=='Existing']"
   ]
  },
  {
   "cell_type": "code",
   "execution_count": 21,
   "id": "hollywood-munich",
   "metadata": {},
   "outputs": [
    {
     "data": {
      "text/html": [
       "<div>\n",
       "<style scoped>\n",
       "    .dataframe tbody tr th:only-of-type {\n",
       "        vertical-align: middle;\n",
       "    }\n",
       "\n",
       "    .dataframe tbody tr th {\n",
       "        vertical-align: top;\n",
       "    }\n",
       "\n",
       "    .dataframe thead th {\n",
       "        text-align: right;\n",
       "    }\n",
       "</style>\n",
       "<table border=\"1\" class=\"dataframe\">\n",
       "  <thead>\n",
       "    <tr style=\"text-align: right;\">\n",
       "      <th></th>\n",
       "      <th>year</th>\n",
       "      <th>customer_email</th>\n",
       "      <th>net_revenue</th>\n",
       "      <th>Occurence</th>\n",
       "    </tr>\n",
       "  </thead>\n",
       "  <tbody>\n",
       "    <tr>\n",
       "      <th>231296</th>\n",
       "      <td>2016</td>\n",
       "      <td>aaaqpobaaa@gmail.com</td>\n",
       "      <td>109.50</td>\n",
       "      <td>Existing</td>\n",
       "    </tr>\n",
       "    <tr>\n",
       "      <th>231298</th>\n",
       "      <td>2016</td>\n",
       "      <td>aaatyrafec@gmail.com</td>\n",
       "      <td>45.53</td>\n",
       "      <td>Existing</td>\n",
       "    </tr>\n",
       "    <tr>\n",
       "      <th>231304</th>\n",
       "      <td>2016</td>\n",
       "      <td>aacamnskvy@gmail.com</td>\n",
       "      <td>12.80</td>\n",
       "      <td>Existing</td>\n",
       "    </tr>\n",
       "    <tr>\n",
       "      <th>231306</th>\n",
       "      <td>2016</td>\n",
       "      <td>aacogwrfad@gmail.com</td>\n",
       "      <td>103.67</td>\n",
       "      <td>Existing</td>\n",
       "    </tr>\n",
       "    <tr>\n",
       "      <th>231307</th>\n",
       "      <td>2016</td>\n",
       "      <td>aacrpgjcil@gmail.com</td>\n",
       "      <td>202.36</td>\n",
       "      <td>Existing</td>\n",
       "    </tr>\n",
       "    <tr>\n",
       "      <th>...</th>\n",
       "      <td>...</td>\n",
       "      <td>...</td>\n",
       "      <td>...</td>\n",
       "      <td>...</td>\n",
       "    </tr>\n",
       "    <tr>\n",
       "      <th>685866</th>\n",
       "      <td>2017</td>\n",
       "      <td>zzurtiklzf@gmail.com</td>\n",
       "      <td>199.13</td>\n",
       "      <td>Existing</td>\n",
       "    </tr>\n",
       "    <tr>\n",
       "      <th>685870</th>\n",
       "      <td>2017</td>\n",
       "      <td>zzvasxeybi@gmail.com</td>\n",
       "      <td>237.84</td>\n",
       "      <td>Existing</td>\n",
       "    </tr>\n",
       "    <tr>\n",
       "      <th>685872</th>\n",
       "      <td>2017</td>\n",
       "      <td>zzvgdegvtp@gmail.com</td>\n",
       "      <td>107.59</td>\n",
       "      <td>Existing</td>\n",
       "    </tr>\n",
       "    <tr>\n",
       "      <th>685883</th>\n",
       "      <td>2017</td>\n",
       "      <td>zzwelbhzzy@gmail.com</td>\n",
       "      <td>161.99</td>\n",
       "      <td>Existing</td>\n",
       "    </tr>\n",
       "    <tr>\n",
       "      <th>685890</th>\n",
       "      <td>2017</td>\n",
       "      <td>zzwyzwsesu@gmail.com</td>\n",
       "      <td>16.78</td>\n",
       "      <td>Existing</td>\n",
       "    </tr>\n",
       "  </tbody>\n",
       "</table>\n",
       "<p>81309 rows × 4 columns</p>\n",
       "</div>"
      ],
      "text/plain": [
       "        year         customer_email  net_revenue Occurence\n",
       "231296  2016   aaaqpobaaa@gmail.com       109.50  Existing\n",
       "231298  2016   aaatyrafec@gmail.com        45.53  Existing\n",
       "231304  2016   aacamnskvy@gmail.com        12.80  Existing\n",
       "231306  2016   aacogwrfad@gmail.com       103.67  Existing\n",
       "231307  2016   aacrpgjcil@gmail.com       202.36  Existing\n",
       "...      ...                    ...          ...       ...\n",
       "685866  2017   zzurtiklzf@gmail.com       199.13  Existing\n",
       "685870  2017   zzvasxeybi@gmail.com       237.84  Existing\n",
       "685872  2017   zzvgdegvtp@gmail.com       107.59  Existing\n",
       "685883  2017   zzwelbhzzy@gmail.com       161.99  Existing\n",
       "685890  2017   zzwyzwsesu@gmail.com        16.78  Existing\n",
       "\n",
       "[81309 rows x 4 columns]"
      ]
     },
     "execution_count": 21,
     "metadata": {},
     "output_type": "execute_result"
    }
   ],
   "source": [
    "x"
   ]
  },
  {
   "cell_type": "code",
   "execution_count": 22,
   "id": "affiliated-collapse",
   "metadata": {},
   "outputs": [],
   "source": [
    "x1=a[a['Occurence']=='New']"
   ]
  },
  {
   "cell_type": "code",
   "execution_count": 23,
   "id": "prescription-account",
   "metadata": {},
   "outputs": [
    {
     "name": "stdout",
     "output_type": "stream",
     "text": [
      "year\n",
      "2015    29036749.19\n",
      "2016    18245491.01\n",
      "2017    28676607.64\n",
      "Name: net_revenue, dtype: float64\n"
     ]
    }
   ],
   "source": [
    "\n",
    "new_customers = x1.groupby(['year'])['net_revenue'].sum() #sum function\n",
    "print(new_customers)"
   ]
  },
  {
   "cell_type": "code",
   "execution_count": 24,
   "id": "meaning-license",
   "metadata": {},
   "outputs": [],
   "source": [
    "new_cust=new_customers.to_frame() # Since it is a Series conmverting to Dataframe to plot further"
   ]
  },
  {
   "cell_type": "code",
   "execution_count": 25,
   "id": "turned-illinois",
   "metadata": {},
   "outputs": [],
   "source": [
    "new_cust.reset_index(inplace=True)"
   ]
  },
  {
   "cell_type": "code",
   "execution_count": 26,
   "id": "spare-morocco",
   "metadata": {},
   "outputs": [
    {
     "data": {
      "text/html": [
       "<div>\n",
       "<style scoped>\n",
       "    .dataframe tbody tr th:only-of-type {\n",
       "        vertical-align: middle;\n",
       "    }\n",
       "\n",
       "    .dataframe tbody tr th {\n",
       "        vertical-align: top;\n",
       "    }\n",
       "\n",
       "    .dataframe thead th {\n",
       "        text-align: right;\n",
       "    }\n",
       "</style>\n",
       "<table border=\"1\" class=\"dataframe\">\n",
       "  <thead>\n",
       "    <tr style=\"text-align: right;\">\n",
       "      <th></th>\n",
       "      <th>year</th>\n",
       "      <th>net_revenue</th>\n",
       "    </tr>\n",
       "  </thead>\n",
       "  <tbody>\n",
       "    <tr>\n",
       "      <th>0</th>\n",
       "      <td>2015</td>\n",
       "      <td>29036749.19</td>\n",
       "    </tr>\n",
       "    <tr>\n",
       "      <th>1</th>\n",
       "      <td>2016</td>\n",
       "      <td>18245491.01</td>\n",
       "    </tr>\n",
       "    <tr>\n",
       "      <th>2</th>\n",
       "      <td>2017</td>\n",
       "      <td>28676607.64</td>\n",
       "    </tr>\n",
       "  </tbody>\n",
       "</table>\n",
       "</div>"
      ],
      "text/plain": [
       "   year  net_revenue\n",
       "0  2015  29036749.19\n",
       "1  2016  18245491.01\n",
       "2  2017  28676607.64"
      ]
     },
     "execution_count": 26,
     "metadata": {},
     "output_type": "execute_result"
    }
   ],
   "source": [
    "new_cust"
   ]
  },
  {
   "cell_type": "code",
   "execution_count": 27,
   "id": "pursuant-sullivan",
   "metadata": {},
   "outputs": [
    {
     "data": {
      "text/plain": [
       "<AxesSubplot:xlabel='year', ylabel='net_revenue'>"
      ]
     },
     "execution_count": 27,
     "metadata": {},
     "output_type": "execute_result"
    },
    {
     "data": {
      "image/png": "[encoded data removed]",
      "text/plain": [
       "<Figure size 432x288 with 1 Axes>"
      ]
     },
     "metadata": {
      "needs_background": "light"
     },
     "output_type": "display_data"
    }
   ],
   "source": [
    "sns.barplot(x='year',y='net_revenue',hue='year',data=new_cust)"
   ]
  },
  {
   "cell_type": "markdown",
   "id": "personal-chapter",
   "metadata": {},
   "source": [
    "# Observations:\n",
    "<br>New Customer Revenue for 2016: 18.24 M </br>\n",
    "<br>New Customer Revenue for 2017: 28.67 M </br>"
   ]
  },
  {
   "cell_type": "markdown",
   "id": "minute-birth",
   "metadata": {},
   "source": [
    "# Question: Total Customers Per Year"
   ]
  },
  {
   "cell_type": "code",
   "execution_count": 28,
   "id": "united-surrey",
   "metadata": {},
   "outputs": [],
   "source": [
    "data=pd.read_csv(\"C:/Users/shwer/OneDrive/Desktop/archive/casestudy.csv\")\n",
    "d_2015=data[data['year']==2015]\n",
    "d_2016=data[data['year']==2016]\n",
    "d_2017=data[data['year']==2017]"
   ]
  },
  {
   "cell_type": "code",
   "execution_count": 29,
   "id": "documentary-robinson",
   "metadata": {},
   "outputs": [
    {
     "name": "stdout",
     "output_type": "stream",
     "text": [
      "231294\n",
      "204646\n",
      "249987\n"
     ]
    }
   ],
   "source": [
    "print(len(d_2015['customer_email'].unique()))\n",
    "print(len(d_2016['customer_email'].unique()))\n",
    "print(len(d_2017['customer_email'].unique()))"
   ]
  },
  {
   "cell_type": "code",
   "execution_count": 30,
   "id": "analyzed-three",
   "metadata": {},
   "outputs": [
    {
     "data": {
      "text/plain": [
       "<AxesSubplot:>"
      ]
     },
     "execution_count": 30,
     "metadata": {},
     "output_type": "execute_result"
    },
    {
     "data": {
      "image/png": "[encoded data removed]",
      "text/plain": [
       "<Figure size 432x288 with 1 Axes>"
      ]
     },
     "metadata": {
      "needs_background": "light"
     },
     "output_type": "display_data"
    }
   ],
   "source": [
    "x=[231294,204646,249987]\n",
    "y=[2015,2016,2017]\n",
    "sns.barplot(x=y,y=x)"
   ]
  },
  {
   "cell_type": "markdown",
   "id": "impossible-collect",
   "metadata": {},
   "source": [
    "# Observations:\n",
    "<br> Total Unique Customers in 2015 are 231294 </br>\n",
    "<br> Total Unique Customers in 2016 are 204646 </br>\n",
    "<br> Total Unique Customers in 2017 are 249987 </br>"
   ]
  },
  {
   "cell_type": "markdown",
   "id": "streaming-heading",
   "metadata": {},
   "source": [
    "# Question : Count of New Customers per year"
   ]
  },
  {
   "cell_type": "code",
   "execution_count": 31,
   "id": "breeding-intro",
   "metadata": {},
   "outputs": [],
   "source": [
    "# Question : Count of New Customers per year\n",
    "x1=a[a['Occurence']=='New']\n",
    "new_2015=x1[x1['year']==2015]\n",
    "new_2016=x1[x1['year']==2016]\n",
    "new_2017=x1[x1['year']==2017]"
   ]
  },
  {
   "cell_type": "code",
   "execution_count": 32,
   "id": "numerous-communications",
   "metadata": {},
   "outputs": [
    {
     "name": "stdout",
     "output_type": "stream",
     "text": [
      "231294\n",
      "145062\n",
      "228262\n"
     ]
    }
   ],
   "source": [
    "print(len(new_2015['customer_email'].unique()))\n",
    "print(len(new_2016['customer_email'].unique()))\n",
    "print(len(new_2017['customer_email'].unique()))"
   ]
  },
  {
   "cell_type": "code",
   "execution_count": 33,
   "id": "preliminary-behavior",
   "metadata": {},
   "outputs": [
    {
     "data": {
      "text/plain": [
       "<AxesSubplot:>"
      ]
     },
     "execution_count": 33,
     "metadata": {},
     "output_type": "execute_result"
    },
    {
     "data": {
      "image/png": "[encoded data removed]",
      "text/plain": [
       "<Figure size 432x288 with 1 Axes>"
      ]
     },
     "metadata": {
      "needs_background": "light"
     },
     "output_type": "display_data"
    }
   ],
   "source": [
    "x=[231294,145062,228262]\n",
    "y=[2015,2016,2017]\n",
    "sns.barplot(x=y,y=x)"
   ]
  },
  {
   "cell_type": "markdown",
   "id": "innovative-television",
   "metadata": {},
   "source": [
    "# Observations: \n",
    "<br> Total Unique New Customers in 2015 are 231294 </br>\n",
    "<br> Total Unique New Customers in 2016 are 145062 </br>\n",
    "<br> Total Unique New Customers in 2017 are 228262 </br>"
   ]
  },
  {
   "cell_type": "markdown",
   "id": "brazilian-genesis",
   "metadata": {},
   "source": [
    "# Question: Lost Customers\n"
   ]
  },
  {
   "cell_type": "code",
   "execution_count": 34,
   "id": "indoor-adjustment",
   "metadata": {},
   "outputs": [
    {
     "data": {
      "text/html": [
       "<div>\n",
       "<style scoped>\n",
       "    .dataframe tbody tr th:only-of-type {\n",
       "        vertical-align: middle;\n",
       "    }\n",
       "\n",
       "    .dataframe tbody tr th {\n",
       "        vertical-align: top;\n",
       "    }\n",
       "\n",
       "    .dataframe thead th {\n",
       "        text-align: right;\n",
       "    }\n",
       "</style>\n",
       "<table border=\"1\" class=\"dataframe\">\n",
       "  <thead>\n",
       "    <tr style=\"text-align: right;\">\n",
       "      <th></th>\n",
       "      <th>year</th>\n",
       "      <th>customer_email</th>\n",
       "      <th>net_revenue</th>\n",
       "      <th>Occurence</th>\n",
       "    </tr>\n",
       "  </thead>\n",
       "  <tbody>\n",
       "    <tr>\n",
       "      <th>0</th>\n",
       "      <td>2015</td>\n",
       "      <td>aaagldjgdt@gmail.com</td>\n",
       "      <td>44.72</td>\n",
       "      <td>New</td>\n",
       "    </tr>\n",
       "    <tr>\n",
       "      <th>1</th>\n",
       "      <td>2015</td>\n",
       "      <td>aaaicvtnzx@gmail.com</td>\n",
       "      <td>49.20</td>\n",
       "      <td>New</td>\n",
       "    </tr>\n",
       "    <tr>\n",
       "      <th>2</th>\n",
       "      <td>2015</td>\n",
       "      <td>aaaihliwuo@gmail.com</td>\n",
       "      <td>248.67</td>\n",
       "      <td>New</td>\n",
       "    </tr>\n",
       "    <tr>\n",
       "      <th>3</th>\n",
       "      <td>2015</td>\n",
       "      <td>aaaqpobaaa@gmail.com</td>\n",
       "      <td>126.83</td>\n",
       "      <td>New</td>\n",
       "    </tr>\n",
       "    <tr>\n",
       "      <th>4</th>\n",
       "      <td>2015</td>\n",
       "      <td>aaatyrafec@gmail.com</td>\n",
       "      <td>65.28</td>\n",
       "      <td>New</td>\n",
       "    </tr>\n",
       "    <tr>\n",
       "      <th>...</th>\n",
       "      <td>...</td>\n",
       "      <td>...</td>\n",
       "      <td>...</td>\n",
       "      <td>...</td>\n",
       "    </tr>\n",
       "    <tr>\n",
       "      <th>685922</th>\n",
       "      <td>2017</td>\n",
       "      <td>zzzdnukepj@gmail.com</td>\n",
       "      <td>81.99</td>\n",
       "      <td>New</td>\n",
       "    </tr>\n",
       "    <tr>\n",
       "      <th>685923</th>\n",
       "      <td>2017</td>\n",
       "      <td>zzzeehgitl@gmail.com</td>\n",
       "      <td>65.98</td>\n",
       "      <td>New</td>\n",
       "    </tr>\n",
       "    <tr>\n",
       "      <th>685924</th>\n",
       "      <td>2017</td>\n",
       "      <td>zzzmkaruhf@gmail.com</td>\n",
       "      <td>202.77</td>\n",
       "      <td>New</td>\n",
       "    </tr>\n",
       "    <tr>\n",
       "      <th>685925</th>\n",
       "      <td>2017</td>\n",
       "      <td>zzznqseiwv@gmail.com</td>\n",
       "      <td>162.24</td>\n",
       "      <td>New</td>\n",
       "    </tr>\n",
       "    <tr>\n",
       "      <th>685926</th>\n",
       "      <td>2017</td>\n",
       "      <td>zzzoxtrfic@gmail.com</td>\n",
       "      <td>15.74</td>\n",
       "      <td>New</td>\n",
       "    </tr>\n",
       "  </tbody>\n",
       "</table>\n",
       "<p>685927 rows × 4 columns</p>\n",
       "</div>"
      ],
      "text/plain": [
       "        year         customer_email  net_revenue Occurence\n",
       "0       2015   aaagldjgdt@gmail.com        44.72       New\n",
       "1       2015   aaaicvtnzx@gmail.com        49.20       New\n",
       "2       2015   aaaihliwuo@gmail.com       248.67       New\n",
       "3       2015   aaaqpobaaa@gmail.com       126.83       New\n",
       "4       2015   aaatyrafec@gmail.com        65.28       New\n",
       "...      ...                    ...          ...       ...\n",
       "685922  2017   zzzdnukepj@gmail.com        81.99       New\n",
       "685923  2017   zzzeehgitl@gmail.com        65.98       New\n",
       "685924  2017   zzzmkaruhf@gmail.com       202.77       New\n",
       "685925  2017   zzznqseiwv@gmail.com       162.24       New\n",
       "685926  2017   zzzoxtrfic@gmail.com        15.74       New\n",
       "\n",
       "[685927 rows x 4 columns]"
      ]
     },
     "execution_count": 34,
     "metadata": {},
     "output_type": "execute_result"
    }
   ],
   "source": [
    "a"
   ]
  },
  {
   "cell_type": "code",
   "execution_count": 35,
   "id": "creative-performer",
   "metadata": {},
   "outputs": [],
   "source": [
    "df=pd.read_csv(\"C:/Users/shwer/OneDrive/Desktop/archive/yearly_revenue_cust.csv\")\n",
    "l_2015=df[df['year']==2015]\n",
    "l_2016=df[df['year']==2016]\n",
    "l_2017=df[df['year']==2017]"
   ]
  },
  {
   "cell_type": "code",
   "execution_count": 36,
   "id": "informational-burden",
   "metadata": {},
   "outputs": [
    {
     "data": {
      "text/html": [
       "<div>\n",
       "<style scoped>\n",
       "    .dataframe tbody tr th:only-of-type {\n",
       "        vertical-align: middle;\n",
       "    }\n",
       "\n",
       "    .dataframe tbody tr th {\n",
       "        vertical-align: top;\n",
       "    }\n",
       "\n",
       "    .dataframe thead th {\n",
       "        text-align: right;\n",
       "    }\n",
       "</style>\n",
       "<table border=\"1\" class=\"dataframe\">\n",
       "  <thead>\n",
       "    <tr style=\"text-align: right;\">\n",
       "      <th></th>\n",
       "      <th>year</th>\n",
       "      <th>customer_email</th>\n",
       "      <th>net_revenue</th>\n",
       "    </tr>\n",
       "  </thead>\n",
       "  <tbody>\n",
       "    <tr>\n",
       "      <th>0</th>\n",
       "      <td>2015</td>\n",
       "      <td>aaagldjgdt@gmail.com</td>\n",
       "      <td>44.72</td>\n",
       "    </tr>\n",
       "    <tr>\n",
       "      <th>1</th>\n",
       "      <td>2015</td>\n",
       "      <td>aaaicvtnzx@gmail.com</td>\n",
       "      <td>49.20</td>\n",
       "    </tr>\n",
       "    <tr>\n",
       "      <th>2</th>\n",
       "      <td>2015</td>\n",
       "      <td>aaaihliwuo@gmail.com</td>\n",
       "      <td>248.67</td>\n",
       "    </tr>\n",
       "    <tr>\n",
       "      <th>5</th>\n",
       "      <td>2015</td>\n",
       "      <td>aabeiqckqu@gmail.com</td>\n",
       "      <td>44.47</td>\n",
       "    </tr>\n",
       "    <tr>\n",
       "      <th>6</th>\n",
       "      <td>2015</td>\n",
       "      <td>aabipmtctn@gmail.com</td>\n",
       "      <td>4.69</td>\n",
       "    </tr>\n",
       "    <tr>\n",
       "      <th>...</th>\n",
       "      <td>...</td>\n",
       "      <td>...</td>\n",
       "      <td>...</td>\n",
       "    </tr>\n",
       "    <tr>\n",
       "      <th>231289</th>\n",
       "      <td>2015</td>\n",
       "      <td>zzzcdrueqb@gmail.com</td>\n",
       "      <td>55.99</td>\n",
       "    </tr>\n",
       "    <tr>\n",
       "      <th>231290</th>\n",
       "      <td>2015</td>\n",
       "      <td>zzzjhxjwic@gmail.com</td>\n",
       "      <td>72.11</td>\n",
       "    </tr>\n",
       "    <tr>\n",
       "      <th>231291</th>\n",
       "      <td>2015</td>\n",
       "      <td>zzzrjsowtl@gmail.com</td>\n",
       "      <td>95.80</td>\n",
       "    </tr>\n",
       "    <tr>\n",
       "      <th>231292</th>\n",
       "      <td>2015</td>\n",
       "      <td>zzztwcvgvp@gmail.com</td>\n",
       "      <td>129.75</td>\n",
       "    </tr>\n",
       "    <tr>\n",
       "      <th>231293</th>\n",
       "      <td>2015</td>\n",
       "      <td>zzzxxclrua@gmail.com</td>\n",
       "      <td>57.24</td>\n",
       "    </tr>\n",
       "  </tbody>\n",
       "</table>\n",
       "<p>171710 rows × 3 columns</p>\n",
       "</div>"
      ],
      "text/plain": [
       "        year         customer_email  net_revenue\n",
       "0       2015   aaagldjgdt@gmail.com        44.72\n",
       "1       2015   aaaicvtnzx@gmail.com        49.20\n",
       "2       2015   aaaihliwuo@gmail.com       248.67\n",
       "5       2015   aabeiqckqu@gmail.com        44.47\n",
       "6       2015   aabipmtctn@gmail.com         4.69\n",
       "...      ...                    ...          ...\n",
       "231289  2015   zzzcdrueqb@gmail.com        55.99\n",
       "231290  2015   zzzjhxjwic@gmail.com        72.11\n",
       "231291  2015   zzzrjsowtl@gmail.com        95.80\n",
       "231292  2015   zzztwcvgvp@gmail.com       129.75\n",
       "231293  2015   zzzxxclrua@gmail.com        57.24\n",
       "\n",
       "[171710 rows x 3 columns]"
      ]
     },
     "execution_count": 36,
     "metadata": {},
     "output_type": "execute_result"
    }
   ],
   "source": [
    "l_2015[~l_2015['customer_email'].isin(l_2016['customer_email'])]"
   ]
  },
  {
   "cell_type": "code",
   "execution_count": 37,
   "id": "illegal-devon",
   "metadata": {},
   "outputs": [],
   "source": [
    "# Observations: As 2015 total Customers are 231294\n",
    "# Lost Customers i.e. Customers which are present in 2015 but absent in 2016 = 59584"
   ]
  },
  {
   "cell_type": "code",
   "execution_count": 38,
   "id": "weighted-acting",
   "metadata": {},
   "outputs": [
    {
     "data": {
      "text/html": [
       "<div>\n",
       "<style scoped>\n",
       "    .dataframe tbody tr th:only-of-type {\n",
       "        vertical-align: middle;\n",
       "    }\n",
       "\n",
       "    .dataframe tbody tr th {\n",
       "        vertical-align: top;\n",
       "    }\n",
       "\n",
       "    .dataframe thead th {\n",
       "        text-align: right;\n",
       "    }\n",
       "</style>\n",
       "<table border=\"1\" class=\"dataframe\">\n",
       "  <thead>\n",
       "    <tr style=\"text-align: right;\">\n",
       "      <th></th>\n",
       "      <th>year</th>\n",
       "      <th>customer_email</th>\n",
       "      <th>net_revenue</th>\n",
       "    </tr>\n",
       "  </thead>\n",
       "  <tbody>\n",
       "    <tr>\n",
       "      <th>231294</th>\n",
       "      <td>2016</td>\n",
       "      <td>aaafxtkgxo@gmail.com</td>\n",
       "      <td>127.62</td>\n",
       "    </tr>\n",
       "    <tr>\n",
       "      <th>231295</th>\n",
       "      <td>2016</td>\n",
       "      <td>aaaglfuvti@gmail.com</td>\n",
       "      <td>160.79</td>\n",
       "    </tr>\n",
       "    <tr>\n",
       "      <th>231296</th>\n",
       "      <td>2016</td>\n",
       "      <td>aaaqpobaaa@gmail.com</td>\n",
       "      <td>109.50</td>\n",
       "    </tr>\n",
       "    <tr>\n",
       "      <th>231297</th>\n",
       "      <td>2016</td>\n",
       "      <td>aaatizazdz@gmail.com</td>\n",
       "      <td>51.17</td>\n",
       "    </tr>\n",
       "    <tr>\n",
       "      <th>231298</th>\n",
       "      <td>2016</td>\n",
       "      <td>aaatyrafec@gmail.com</td>\n",
       "      <td>45.53</td>\n",
       "    </tr>\n",
       "    <tr>\n",
       "      <th>...</th>\n",
       "      <td>...</td>\n",
       "      <td>...</td>\n",
       "      <td>...</td>\n",
       "    </tr>\n",
       "    <tr>\n",
       "      <th>435935</th>\n",
       "      <td>2016</td>\n",
       "      <td>zzxqawadmp@gmail.com</td>\n",
       "      <td>48.06</td>\n",
       "    </tr>\n",
       "    <tr>\n",
       "      <th>435936</th>\n",
       "      <td>2016</td>\n",
       "      <td>zzylxsttdq@gmail.com</td>\n",
       "      <td>75.16</td>\n",
       "    </tr>\n",
       "    <tr>\n",
       "      <th>435937</th>\n",
       "      <td>2016</td>\n",
       "      <td>zzysesrqck@gmail.com</td>\n",
       "      <td>195.33</td>\n",
       "    </tr>\n",
       "    <tr>\n",
       "      <th>435938</th>\n",
       "      <td>2016</td>\n",
       "      <td>zzyyqigvjs@gmail.com</td>\n",
       "      <td>25.37</td>\n",
       "    </tr>\n",
       "    <tr>\n",
       "      <th>435939</th>\n",
       "      <td>2016</td>\n",
       "      <td>zzzwmlwwmn@gmail.com</td>\n",
       "      <td>98.01</td>\n",
       "    </tr>\n",
       "  </tbody>\n",
       "</table>\n",
       "<p>183687 rows × 3 columns</p>\n",
       "</div>"
      ],
      "text/plain": [
       "        year         customer_email  net_revenue\n",
       "231294  2016   aaafxtkgxo@gmail.com       127.62\n",
       "231295  2016   aaaglfuvti@gmail.com       160.79\n",
       "231296  2016   aaaqpobaaa@gmail.com       109.50\n",
       "231297  2016   aaatizazdz@gmail.com        51.17\n",
       "231298  2016   aaatyrafec@gmail.com        45.53\n",
       "...      ...                    ...          ...\n",
       "435935  2016   zzxqawadmp@gmail.com        48.06\n",
       "435936  2016   zzylxsttdq@gmail.com        75.16\n",
       "435937  2016   zzysesrqck@gmail.com       195.33\n",
       "435938  2016   zzyyqigvjs@gmail.com        25.37\n",
       "435939  2016   zzzwmlwwmn@gmail.com        98.01\n",
       "\n",
       "[183687 rows x 3 columns]"
      ]
     },
     "execution_count": 38,
     "metadata": {},
     "output_type": "execute_result"
    }
   ],
   "source": [
    "l_2016[~l_2016['customer_email'].isin(l_2017['customer_email'])]"
   ]
  },
  {
   "cell_type": "code",
   "execution_count": 39,
   "id": "handled-pixel",
   "metadata": {},
   "outputs": [],
   "source": [
    "# Observations: As 2016 total Customers are 204646\n",
    "# Lost Customers i.e. Customers which are present in 2016 but absent in 2017 = 183687"
   ]
  },
  {
   "cell_type": "markdown",
   "id": "previous-shock",
   "metadata": {},
   "source": [
    "# Observations:\n",
    "<b><br> Lost Customers i.e. Customers which are present in 2015 but absent in 2016 = 59584 </br></b>\n",
    "<b><br> Lost Customers i.e. Customers which are present in 2016 but absent in 2017 = 183687 </br></b>"
   ]
  },
  {
   "cell_type": "markdown",
   "id": "dominant-bikini",
   "metadata": {},
   "source": [
    "# Question: Existing Customer Growth"
   ]
  },
  {
   "cell_type": "code",
   "execution_count": 40,
   "id": "binary-tournament",
   "metadata": {},
   "outputs": [],
   "source": [
    "df=pd.read_csv(\"C:/Users/shwer/OneDrive/Desktop/archive/yearly_revenue_cust.csv\")\n",
    "df_2015=df[df['year']==2015]\n",
    "df_2016=df[df['year']==2016]\n",
    "df_2017=df[df['year']==2017]"
   ]
  },
  {
   "cell_type": "code",
   "execution_count": 41,
   "id": "nonprofit-shift",
   "metadata": {},
   "outputs": [
    {
     "data": {
      "text/html": [
       "<div>\n",
       "<style scoped>\n",
       "    .dataframe tbody tr th:only-of-type {\n",
       "        vertical-align: middle;\n",
       "    }\n",
       "\n",
       "    .dataframe tbody tr th {\n",
       "        vertical-align: top;\n",
       "    }\n",
       "\n",
       "    .dataframe thead th {\n",
       "        text-align: right;\n",
       "    }\n",
       "</style>\n",
       "<table border=\"1\" class=\"dataframe\">\n",
       "  <thead>\n",
       "    <tr style=\"text-align: right;\">\n",
       "      <th></th>\n",
       "      <th>year</th>\n",
       "      <th>customer_email</th>\n",
       "      <th>net_revenue</th>\n",
       "    </tr>\n",
       "  </thead>\n",
       "  <tbody>\n",
       "    <tr>\n",
       "      <th>0</th>\n",
       "      <td>2015</td>\n",
       "      <td>aaagldjgdt@gmail.com</td>\n",
       "      <td>44.72</td>\n",
       "    </tr>\n",
       "    <tr>\n",
       "      <th>1</th>\n",
       "      <td>2015</td>\n",
       "      <td>aaaicvtnzx@gmail.com</td>\n",
       "      <td>49.20</td>\n",
       "    </tr>\n",
       "    <tr>\n",
       "      <th>2</th>\n",
       "      <td>2015</td>\n",
       "      <td>aaaihliwuo@gmail.com</td>\n",
       "      <td>248.67</td>\n",
       "    </tr>\n",
       "    <tr>\n",
       "      <th>3</th>\n",
       "      <td>2015</td>\n",
       "      <td>aaaqpobaaa@gmail.com</td>\n",
       "      <td>126.83</td>\n",
       "    </tr>\n",
       "    <tr>\n",
       "      <th>4</th>\n",
       "      <td>2015</td>\n",
       "      <td>aaatyrafec@gmail.com</td>\n",
       "      <td>65.28</td>\n",
       "    </tr>\n",
       "    <tr>\n",
       "      <th>...</th>\n",
       "      <td>...</td>\n",
       "      <td>...</td>\n",
       "      <td>...</td>\n",
       "    </tr>\n",
       "    <tr>\n",
       "      <th>231289</th>\n",
       "      <td>2015</td>\n",
       "      <td>zzzcdrueqb@gmail.com</td>\n",
       "      <td>55.99</td>\n",
       "    </tr>\n",
       "    <tr>\n",
       "      <th>231290</th>\n",
       "      <td>2015</td>\n",
       "      <td>zzzjhxjwic@gmail.com</td>\n",
       "      <td>72.11</td>\n",
       "    </tr>\n",
       "    <tr>\n",
       "      <th>231291</th>\n",
       "      <td>2015</td>\n",
       "      <td>zzzrjsowtl@gmail.com</td>\n",
       "      <td>95.80</td>\n",
       "    </tr>\n",
       "    <tr>\n",
       "      <th>231292</th>\n",
       "      <td>2015</td>\n",
       "      <td>zzztwcvgvp@gmail.com</td>\n",
       "      <td>129.75</td>\n",
       "    </tr>\n",
       "    <tr>\n",
       "      <th>231293</th>\n",
       "      <td>2015</td>\n",
       "      <td>zzzxxclrua@gmail.com</td>\n",
       "      <td>57.24</td>\n",
       "    </tr>\n",
       "  </tbody>\n",
       "</table>\n",
       "<p>231294 rows × 3 columns</p>\n",
       "</div>"
      ],
      "text/plain": [
       "        year         customer_email  net_revenue\n",
       "0       2015   aaagldjgdt@gmail.com        44.72\n",
       "1       2015   aaaicvtnzx@gmail.com        49.20\n",
       "2       2015   aaaihliwuo@gmail.com       248.67\n",
       "3       2015   aaaqpobaaa@gmail.com       126.83\n",
       "4       2015   aaatyrafec@gmail.com        65.28\n",
       "...      ...                    ...          ...\n",
       "231289  2015   zzzcdrueqb@gmail.com        55.99\n",
       "231290  2015   zzzjhxjwic@gmail.com        72.11\n",
       "231291  2015   zzzrjsowtl@gmail.com        95.80\n",
       "231292  2015   zzztwcvgvp@gmail.com       129.75\n",
       "231293  2015   zzzxxclrua@gmail.com        57.24\n",
       "\n",
       "[231294 rows x 3 columns]"
      ]
     },
     "execution_count": 41,
     "metadata": {},
     "output_type": "execute_result"
    }
   ],
   "source": [
    "df_2015"
   ]
  },
  {
   "cell_type": "code",
   "execution_count": 42,
   "id": "gentle-batman",
   "metadata": {},
   "outputs": [],
   "source": [
    "z=df_2015.merge(df_2016, left_on='customer_email', right_on='customer_email')"
   ]
  },
  {
   "cell_type": "code",
   "execution_count": 43,
   "id": "distinguished-homeless",
   "metadata": {},
   "outputs": [
    {
     "data": {
      "text/html": [
       "<div>\n",
       "<style scoped>\n",
       "    .dataframe tbody tr th:only-of-type {\n",
       "        vertical-align: middle;\n",
       "    }\n",
       "\n",
       "    .dataframe tbody tr th {\n",
       "        vertical-align: top;\n",
       "    }\n",
       "\n",
       "    .dataframe thead th {\n",
       "        text-align: right;\n",
       "    }\n",
       "</style>\n",
       "<table border=\"1\" class=\"dataframe\">\n",
       "  <thead>\n",
       "    <tr style=\"text-align: right;\">\n",
       "      <th></th>\n",
       "      <th>year_x</th>\n",
       "      <th>customer_email</th>\n",
       "      <th>net_revenue_x</th>\n",
       "      <th>year_y</th>\n",
       "      <th>net_revenue_y</th>\n",
       "    </tr>\n",
       "  </thead>\n",
       "  <tbody>\n",
       "    <tr>\n",
       "      <th>0</th>\n",
       "      <td>2015</td>\n",
       "      <td>aaaqpobaaa@gmail.com</td>\n",
       "      <td>126.83</td>\n",
       "      <td>2016</td>\n",
       "      <td>109.50</td>\n",
       "    </tr>\n",
       "    <tr>\n",
       "      <th>1</th>\n",
       "      <td>2015</td>\n",
       "      <td>aaatyrafec@gmail.com</td>\n",
       "      <td>65.28</td>\n",
       "      <td>2016</td>\n",
       "      <td>45.53</td>\n",
       "    </tr>\n",
       "    <tr>\n",
       "      <th>2</th>\n",
       "      <td>2015</td>\n",
       "      <td>aacamnskvy@gmail.com</td>\n",
       "      <td>231.08</td>\n",
       "      <td>2016</td>\n",
       "      <td>12.80</td>\n",
       "    </tr>\n",
       "    <tr>\n",
       "      <th>3</th>\n",
       "      <td>2015</td>\n",
       "      <td>aacogwrfad@gmail.com</td>\n",
       "      <td>50.73</td>\n",
       "      <td>2016</td>\n",
       "      <td>103.67</td>\n",
       "    </tr>\n",
       "    <tr>\n",
       "      <th>4</th>\n",
       "      <td>2015</td>\n",
       "      <td>aacrpgjcil@gmail.com</td>\n",
       "      <td>145.07</td>\n",
       "      <td>2016</td>\n",
       "      <td>202.36</td>\n",
       "    </tr>\n",
       "    <tr>\n",
       "      <th>...</th>\n",
       "      <td>...</td>\n",
       "      <td>...</td>\n",
       "      <td>...</td>\n",
       "      <td>...</td>\n",
       "      <td>...</td>\n",
       "    </tr>\n",
       "    <tr>\n",
       "      <th>59579</th>\n",
       "      <td>2015</td>\n",
       "      <td>zzvuggtccl@gmail.com</td>\n",
       "      <td>136.63</td>\n",
       "      <td>2016</td>\n",
       "      <td>81.75</td>\n",
       "    </tr>\n",
       "    <tr>\n",
       "      <th>59580</th>\n",
       "      <td>2015</td>\n",
       "      <td>zzvylebylv@gmail.com</td>\n",
       "      <td>91.90</td>\n",
       "      <td>2016</td>\n",
       "      <td>225.77</td>\n",
       "    </tr>\n",
       "    <tr>\n",
       "      <th>59581</th>\n",
       "      <td>2015</td>\n",
       "      <td>zzvyvshcka@gmail.com</td>\n",
       "      <td>108.05</td>\n",
       "      <td>2016</td>\n",
       "      <td>197.20</td>\n",
       "    </tr>\n",
       "    <tr>\n",
       "      <th>59582</th>\n",
       "      <td>2015</td>\n",
       "      <td>zzxbdgtcoh@gmail.com</td>\n",
       "      <td>190.96</td>\n",
       "      <td>2016</td>\n",
       "      <td>21.32</td>\n",
       "    </tr>\n",
       "    <tr>\n",
       "      <th>59583</th>\n",
       "      <td>2015</td>\n",
       "      <td>zzylxsttdq@gmail.com</td>\n",
       "      <td>31.08</td>\n",
       "      <td>2016</td>\n",
       "      <td>75.16</td>\n",
       "    </tr>\n",
       "  </tbody>\n",
       "</table>\n",
       "<p>59584 rows × 5 columns</p>\n",
       "</div>"
      ],
      "text/plain": [
       "       year_x         customer_email  net_revenue_x  year_y  net_revenue_y\n",
       "0        2015   aaaqpobaaa@gmail.com         126.83    2016         109.50\n",
       "1        2015   aaatyrafec@gmail.com          65.28    2016          45.53\n",
       "2        2015   aacamnskvy@gmail.com         231.08    2016          12.80\n",
       "3        2015   aacogwrfad@gmail.com          50.73    2016         103.67\n",
       "4        2015   aacrpgjcil@gmail.com         145.07    2016         202.36\n",
       "...       ...                    ...            ...     ...            ...\n",
       "59579    2015   zzvuggtccl@gmail.com         136.63    2016          81.75\n",
       "59580    2015   zzvylebylv@gmail.com          91.90    2016         225.77\n",
       "59581    2015   zzvyvshcka@gmail.com         108.05    2016         197.20\n",
       "59582    2015   zzxbdgtcoh@gmail.com         190.96    2016          21.32\n",
       "59583    2015   zzylxsttdq@gmail.com          31.08    2016          75.16\n",
       "\n",
       "[59584 rows x 5 columns]"
      ]
     },
     "execution_count": 43,
     "metadata": {},
     "output_type": "execute_result"
    }
   ],
   "source": [
    "z"
   ]
  },
  {
   "cell_type": "code",
   "execution_count": 44,
   "id": "according-latest",
   "metadata": {},
   "outputs": [],
   "source": [
    "z['Existing_Customer_growth']=z['net_revenue_y']-z['net_revenue_x']"
   ]
  },
  {
   "cell_type": "code",
   "execution_count": 45,
   "id": "foreign-approval",
   "metadata": {},
   "outputs": [
    {
     "data": {
      "text/html": [
       "<div>\n",
       "<style scoped>\n",
       "    .dataframe tbody tr th:only-of-type {\n",
       "        vertical-align: middle;\n",
       "    }\n",
       "\n",
       "    .dataframe tbody tr th {\n",
       "        vertical-align: top;\n",
       "    }\n",
       "\n",
       "    .dataframe thead th {\n",
       "        text-align: right;\n",
       "    }\n",
       "</style>\n",
       "<table border=\"1\" class=\"dataframe\">\n",
       "  <thead>\n",
       "    <tr style=\"text-align: right;\">\n",
       "      <th></th>\n",
       "      <th>year_x</th>\n",
       "      <th>customer_email</th>\n",
       "      <th>net_revenue_x</th>\n",
       "      <th>year_y</th>\n",
       "      <th>net_revenue_y</th>\n",
       "      <th>Existing_Customer_growth</th>\n",
       "    </tr>\n",
       "  </thead>\n",
       "  <tbody>\n",
       "    <tr>\n",
       "      <th>0</th>\n",
       "      <td>2015</td>\n",
       "      <td>aaaqpobaaa@gmail.com</td>\n",
       "      <td>126.83</td>\n",
       "      <td>2016</td>\n",
       "      <td>109.50</td>\n",
       "      <td>-17.33</td>\n",
       "    </tr>\n",
       "    <tr>\n",
       "      <th>1</th>\n",
       "      <td>2015</td>\n",
       "      <td>aaatyrafec@gmail.com</td>\n",
       "      <td>65.28</td>\n",
       "      <td>2016</td>\n",
       "      <td>45.53</td>\n",
       "      <td>-19.75</td>\n",
       "    </tr>\n",
       "    <tr>\n",
       "      <th>2</th>\n",
       "      <td>2015</td>\n",
       "      <td>aacamnskvy@gmail.com</td>\n",
       "      <td>231.08</td>\n",
       "      <td>2016</td>\n",
       "      <td>12.80</td>\n",
       "      <td>-218.28</td>\n",
       "    </tr>\n",
       "    <tr>\n",
       "      <th>3</th>\n",
       "      <td>2015</td>\n",
       "      <td>aacogwrfad@gmail.com</td>\n",
       "      <td>50.73</td>\n",
       "      <td>2016</td>\n",
       "      <td>103.67</td>\n",
       "      <td>52.94</td>\n",
       "    </tr>\n",
       "    <tr>\n",
       "      <th>4</th>\n",
       "      <td>2015</td>\n",
       "      <td>aacrpgjcil@gmail.com</td>\n",
       "      <td>145.07</td>\n",
       "      <td>2016</td>\n",
       "      <td>202.36</td>\n",
       "      <td>57.29</td>\n",
       "    </tr>\n",
       "    <tr>\n",
       "      <th>...</th>\n",
       "      <td>...</td>\n",
       "      <td>...</td>\n",
       "      <td>...</td>\n",
       "      <td>...</td>\n",
       "      <td>...</td>\n",
       "      <td>...</td>\n",
       "    </tr>\n",
       "    <tr>\n",
       "      <th>59579</th>\n",
       "      <td>2015</td>\n",
       "      <td>zzvuggtccl@gmail.com</td>\n",
       "      <td>136.63</td>\n",
       "      <td>2016</td>\n",
       "      <td>81.75</td>\n",
       "      <td>-54.88</td>\n",
       "    </tr>\n",
       "    <tr>\n",
       "      <th>59580</th>\n",
       "      <td>2015</td>\n",
       "      <td>zzvylebylv@gmail.com</td>\n",
       "      <td>91.90</td>\n",
       "      <td>2016</td>\n",
       "      <td>225.77</td>\n",
       "      <td>133.87</td>\n",
       "    </tr>\n",
       "    <tr>\n",
       "      <th>59581</th>\n",
       "      <td>2015</td>\n",
       "      <td>zzvyvshcka@gmail.com</td>\n",
       "      <td>108.05</td>\n",
       "      <td>2016</td>\n",
       "      <td>197.20</td>\n",
       "      <td>89.15</td>\n",
       "    </tr>\n",
       "    <tr>\n",
       "      <th>59582</th>\n",
       "      <td>2015</td>\n",
       "      <td>zzxbdgtcoh@gmail.com</td>\n",
       "      <td>190.96</td>\n",
       "      <td>2016</td>\n",
       "      <td>21.32</td>\n",
       "      <td>-169.64</td>\n",
       "    </tr>\n",
       "    <tr>\n",
       "      <th>59583</th>\n",
       "      <td>2015</td>\n",
       "      <td>zzylxsttdq@gmail.com</td>\n",
       "      <td>31.08</td>\n",
       "      <td>2016</td>\n",
       "      <td>75.16</td>\n",
       "      <td>44.08</td>\n",
       "    </tr>\n",
       "  </tbody>\n",
       "</table>\n",
       "<p>59584 rows × 6 columns</p>\n",
       "</div>"
      ],
      "text/plain": [
       "       year_x         customer_email  net_revenue_x  year_y  net_revenue_y  \\\n",
       "0        2015   aaaqpobaaa@gmail.com         126.83    2016         109.50   \n",
       "1        2015   aaatyrafec@gmail.com          65.28    2016          45.53   \n",
       "2        2015   aacamnskvy@gmail.com         231.08    2016          12.80   \n",
       "3        2015   aacogwrfad@gmail.com          50.73    2016         103.67   \n",
       "4        2015   aacrpgjcil@gmail.com         145.07    2016         202.36   \n",
       "...       ...                    ...            ...     ...            ...   \n",
       "59579    2015   zzvuggtccl@gmail.com         136.63    2016          81.75   \n",
       "59580    2015   zzvylebylv@gmail.com          91.90    2016         225.77   \n",
       "59581    2015   zzvyvshcka@gmail.com         108.05    2016         197.20   \n",
       "59582    2015   zzxbdgtcoh@gmail.com         190.96    2016          21.32   \n",
       "59583    2015   zzylxsttdq@gmail.com          31.08    2016          75.16   \n",
       "\n",
       "       Existing_Customer_growth  \n",
       "0                        -17.33  \n",
       "1                        -19.75  \n",
       "2                       -218.28  \n",
       "3                         52.94  \n",
       "4                         57.29  \n",
       "...                         ...  \n",
       "59579                    -54.88  \n",
       "59580                    133.87  \n",
       "59581                     89.15  \n",
       "59582                   -169.64  \n",
       "59583                     44.08  \n",
       "\n",
       "[59584 rows x 6 columns]"
      ]
     },
     "execution_count": 45,
     "metadata": {},
     "output_type": "execute_result"
    }
   ],
   "source": [
    "z"
   ]
  },
  {
   "cell_type": "code",
   "execution_count": 74,
   "id": "unlikely-agent",
   "metadata": {},
   "outputs": [
    {
     "data": {
      "text/plain": [
       "20335.460000000006"
      ]
     },
     "execution_count": 74,
     "metadata": {},
     "output_type": "execute_result"
    }
   ],
   "source": [
    "z['Existing_Customer_growth'].sum()"
   ]
  },
  {
   "cell_type": "code",
   "execution_count": 75,
   "id": "diagnostic-ceremony",
   "metadata": {},
   "outputs": [],
   "source": [
    "# Merge z with 2017 year data\n",
    "z1=df_2016.merge(df_2017, left_on='customer_email', right_on='customer_email')"
   ]
  },
  {
   "cell_type": "code",
   "execution_count": 76,
   "id": "solid-blowing",
   "metadata": {},
   "outputs": [
    {
     "data": {
      "text/html": [
       "<div>\n",
       "<style scoped>\n",
       "    .dataframe tbody tr th:only-of-type {\n",
       "        vertical-align: middle;\n",
       "    }\n",
       "\n",
       "    .dataframe tbody tr th {\n",
       "        vertical-align: top;\n",
       "    }\n",
       "\n",
       "    .dataframe thead th {\n",
       "        text-align: right;\n",
       "    }\n",
       "</style>\n",
       "<table border=\"1\" class=\"dataframe\">\n",
       "  <thead>\n",
       "    <tr style=\"text-align: right;\">\n",
       "      <th></th>\n",
       "      <th>year_x</th>\n",
       "      <th>customer_email</th>\n",
       "      <th>net_revenue_x</th>\n",
       "      <th>year_y</th>\n",
       "      <th>net_revenue_y</th>\n",
       "    </tr>\n",
       "  </thead>\n",
       "  <tbody>\n",
       "    <tr>\n",
       "      <th>0</th>\n",
       "      <td>2016</td>\n",
       "      <td>aabmjtmoae@gmail.com</td>\n",
       "      <td>124.29</td>\n",
       "      <td>2017</td>\n",
       "      <td>64.32</td>\n",
       "    </tr>\n",
       "    <tr>\n",
       "      <th>1</th>\n",
       "      <td>2016</td>\n",
       "      <td>aabokiywci@gmail.com</td>\n",
       "      <td>9.95</td>\n",
       "      <td>2017</td>\n",
       "      <td>119.83</td>\n",
       "    </tr>\n",
       "    <tr>\n",
       "      <th>2</th>\n",
       "      <td>2016</td>\n",
       "      <td>aabuefrfjq@gmail.com</td>\n",
       "      <td>131.22</td>\n",
       "      <td>2017</td>\n",
       "      <td>84.30</td>\n",
       "    </tr>\n",
       "    <tr>\n",
       "      <th>3</th>\n",
       "      <td>2016</td>\n",
       "      <td>aacpbgkntc@gmail.com</td>\n",
       "      <td>136.06</td>\n",
       "      <td>2017</td>\n",
       "      <td>8.28</td>\n",
       "    </tr>\n",
       "    <tr>\n",
       "      <th>4</th>\n",
       "      <td>2016</td>\n",
       "      <td>aadbgmnypp@gmail.com</td>\n",
       "      <td>86.82</td>\n",
       "      <td>2017</td>\n",
       "      <td>115.23</td>\n",
       "    </tr>\n",
       "    <tr>\n",
       "      <th>...</th>\n",
       "      <td>...</td>\n",
       "      <td>...</td>\n",
       "      <td>...</td>\n",
       "      <td>...</td>\n",
       "      <td>...</td>\n",
       "    </tr>\n",
       "    <tr>\n",
       "      <th>20954</th>\n",
       "      <td>2016</td>\n",
       "      <td>zzurtiklzf@gmail.com</td>\n",
       "      <td>176.10</td>\n",
       "      <td>2017</td>\n",
       "      <td>199.13</td>\n",
       "    </tr>\n",
       "    <tr>\n",
       "      <th>20955</th>\n",
       "      <td>2016</td>\n",
       "      <td>zzvasxeybi@gmail.com</td>\n",
       "      <td>11.88</td>\n",
       "      <td>2017</td>\n",
       "      <td>237.84</td>\n",
       "    </tr>\n",
       "    <tr>\n",
       "      <th>20956</th>\n",
       "      <td>2016</td>\n",
       "      <td>zzvgdegvtp@gmail.com</td>\n",
       "      <td>79.93</td>\n",
       "      <td>2017</td>\n",
       "      <td>107.59</td>\n",
       "    </tr>\n",
       "    <tr>\n",
       "      <th>20957</th>\n",
       "      <td>2016</td>\n",
       "      <td>zzwelbhzzy@gmail.com</td>\n",
       "      <td>138.74</td>\n",
       "      <td>2017</td>\n",
       "      <td>161.99</td>\n",
       "    </tr>\n",
       "    <tr>\n",
       "      <th>20958</th>\n",
       "      <td>2016</td>\n",
       "      <td>zzwyzwsesu@gmail.com</td>\n",
       "      <td>242.92</td>\n",
       "      <td>2017</td>\n",
       "      <td>16.78</td>\n",
       "    </tr>\n",
       "  </tbody>\n",
       "</table>\n",
       "<p>20959 rows × 5 columns</p>\n",
       "</div>"
      ],
      "text/plain": [
       "       year_x        customer_email  net_revenue_x  year_y  net_revenue_y\n",
       "0        2016  aabmjtmoae@gmail.com         124.29    2017          64.32\n",
       "1        2016  aabokiywci@gmail.com           9.95    2017         119.83\n",
       "2        2016  aabuefrfjq@gmail.com         131.22    2017          84.30\n",
       "3        2016  aacpbgkntc@gmail.com         136.06    2017           8.28\n",
       "4        2016  aadbgmnypp@gmail.com          86.82    2017         115.23\n",
       "...       ...                   ...            ...     ...            ...\n",
       "20954    2016  zzurtiklzf@gmail.com         176.10    2017         199.13\n",
       "20955    2016  zzvasxeybi@gmail.com          11.88    2017         237.84\n",
       "20956    2016  zzvgdegvtp@gmail.com          79.93    2017         107.59\n",
       "20957    2016  zzwelbhzzy@gmail.com         138.74    2017         161.99\n",
       "20958    2016  zzwyzwsesu@gmail.com         242.92    2017          16.78\n",
       "\n",
       "[20959 rows x 5 columns]"
      ]
     },
     "execution_count": 76,
     "metadata": {},
     "output_type": "execute_result"
    }
   ],
   "source": [
    "z1"
   ]
  },
  {
   "cell_type": "code",
   "execution_count": 77,
   "id": "therapeutic-arbor",
   "metadata": {},
   "outputs": [],
   "source": [
    "z1['Existing_Customer_growth_2016-2017']=z1['net_revenue_y']-z1['net_revenue_x']"
   ]
  },
  {
   "cell_type": "code",
   "execution_count": 78,
   "id": "caroline-tourism",
   "metadata": {},
   "outputs": [
    {
     "data": {
      "text/html": [
       "<div>\n",
       "<style scoped>\n",
       "    .dataframe tbody tr th:only-of-type {\n",
       "        vertical-align: middle;\n",
       "    }\n",
       "\n",
       "    .dataframe tbody tr th {\n",
       "        vertical-align: top;\n",
       "    }\n",
       "\n",
       "    .dataframe thead th {\n",
       "        text-align: right;\n",
       "    }\n",
       "</style>\n",
       "<table border=\"1\" class=\"dataframe\">\n",
       "  <thead>\n",
       "    <tr style=\"text-align: right;\">\n",
       "      <th></th>\n",
       "      <th>year_x</th>\n",
       "      <th>customer_email</th>\n",
       "      <th>net_revenue_x</th>\n",
       "      <th>year_y</th>\n",
       "      <th>net_revenue_y</th>\n",
       "      <th>Existing_Customer_growth_2016-2017</th>\n",
       "    </tr>\n",
       "  </thead>\n",
       "  <tbody>\n",
       "    <tr>\n",
       "      <th>0</th>\n",
       "      <td>2016</td>\n",
       "      <td>aabmjtmoae@gmail.com</td>\n",
       "      <td>124.29</td>\n",
       "      <td>2017</td>\n",
       "      <td>64.32</td>\n",
       "      <td>-59.97</td>\n",
       "    </tr>\n",
       "    <tr>\n",
       "      <th>1</th>\n",
       "      <td>2016</td>\n",
       "      <td>aabokiywci@gmail.com</td>\n",
       "      <td>9.95</td>\n",
       "      <td>2017</td>\n",
       "      <td>119.83</td>\n",
       "      <td>109.88</td>\n",
       "    </tr>\n",
       "    <tr>\n",
       "      <th>2</th>\n",
       "      <td>2016</td>\n",
       "      <td>aabuefrfjq@gmail.com</td>\n",
       "      <td>131.22</td>\n",
       "      <td>2017</td>\n",
       "      <td>84.30</td>\n",
       "      <td>-46.92</td>\n",
       "    </tr>\n",
       "    <tr>\n",
       "      <th>3</th>\n",
       "      <td>2016</td>\n",
       "      <td>aacpbgkntc@gmail.com</td>\n",
       "      <td>136.06</td>\n",
       "      <td>2017</td>\n",
       "      <td>8.28</td>\n",
       "      <td>-127.78</td>\n",
       "    </tr>\n",
       "    <tr>\n",
       "      <th>4</th>\n",
       "      <td>2016</td>\n",
       "      <td>aadbgmnypp@gmail.com</td>\n",
       "      <td>86.82</td>\n",
       "      <td>2017</td>\n",
       "      <td>115.23</td>\n",
       "      <td>28.41</td>\n",
       "    </tr>\n",
       "    <tr>\n",
       "      <th>...</th>\n",
       "      <td>...</td>\n",
       "      <td>...</td>\n",
       "      <td>...</td>\n",
       "      <td>...</td>\n",
       "      <td>...</td>\n",
       "      <td>...</td>\n",
       "    </tr>\n",
       "    <tr>\n",
       "      <th>20954</th>\n",
       "      <td>2016</td>\n",
       "      <td>zzurtiklzf@gmail.com</td>\n",
       "      <td>176.10</td>\n",
       "      <td>2017</td>\n",
       "      <td>199.13</td>\n",
       "      <td>23.03</td>\n",
       "    </tr>\n",
       "    <tr>\n",
       "      <th>20955</th>\n",
       "      <td>2016</td>\n",
       "      <td>zzvasxeybi@gmail.com</td>\n",
       "      <td>11.88</td>\n",
       "      <td>2017</td>\n",
       "      <td>237.84</td>\n",
       "      <td>225.96</td>\n",
       "    </tr>\n",
       "    <tr>\n",
       "      <th>20956</th>\n",
       "      <td>2016</td>\n",
       "      <td>zzvgdegvtp@gmail.com</td>\n",
       "      <td>79.93</td>\n",
       "      <td>2017</td>\n",
       "      <td>107.59</td>\n",
       "      <td>27.66</td>\n",
       "    </tr>\n",
       "    <tr>\n",
       "      <th>20957</th>\n",
       "      <td>2016</td>\n",
       "      <td>zzwelbhzzy@gmail.com</td>\n",
       "      <td>138.74</td>\n",
       "      <td>2017</td>\n",
       "      <td>161.99</td>\n",
       "      <td>23.25</td>\n",
       "    </tr>\n",
       "    <tr>\n",
       "      <th>20958</th>\n",
       "      <td>2016</td>\n",
       "      <td>zzwyzwsesu@gmail.com</td>\n",
       "      <td>242.92</td>\n",
       "      <td>2017</td>\n",
       "      <td>16.78</td>\n",
       "      <td>-226.14</td>\n",
       "    </tr>\n",
       "  </tbody>\n",
       "</table>\n",
       "<p>20959 rows × 6 columns</p>\n",
       "</div>"
      ],
      "text/plain": [
       "       year_x        customer_email  net_revenue_x  year_y  net_revenue_y  \\\n",
       "0        2016  aabmjtmoae@gmail.com         124.29    2017          64.32   \n",
       "1        2016  aabokiywci@gmail.com           9.95    2017         119.83   \n",
       "2        2016  aabuefrfjq@gmail.com         131.22    2017          84.30   \n",
       "3        2016  aacpbgkntc@gmail.com         136.06    2017           8.28   \n",
       "4        2016  aadbgmnypp@gmail.com          86.82    2017         115.23   \n",
       "...       ...                   ...            ...     ...            ...   \n",
       "20954    2016  zzurtiklzf@gmail.com         176.10    2017         199.13   \n",
       "20955    2016  zzvasxeybi@gmail.com          11.88    2017         237.84   \n",
       "20956    2016  zzvgdegvtp@gmail.com          79.93    2017         107.59   \n",
       "20957    2016  zzwelbhzzy@gmail.com         138.74    2017         161.99   \n",
       "20958    2016  zzwyzwsesu@gmail.com         242.92    2017          16.78   \n",
       "\n",
       "       Existing_Customer_growth_2016-2017  \n",
       "0                                  -59.97  \n",
       "1                                  109.88  \n",
       "2                                  -46.92  \n",
       "3                                 -127.78  \n",
       "4                                   28.41  \n",
       "...                                   ...  \n",
       "20954                               23.03  \n",
       "20955                              225.96  \n",
       "20956                               27.66  \n",
       "20957                               23.25  \n",
       "20958                             -226.14  \n",
       "\n",
       "[20959 rows x 6 columns]"
      ]
     },
     "execution_count": 78,
     "metadata": {},
     "output_type": "execute_result"
    }
   ],
   "source": [
    "z1"
   ]
  },
  {
   "cell_type": "code",
   "execution_count": 80,
   "id": "suspended-republic",
   "metadata": {},
   "outputs": [
    {
     "data": {
      "text/plain": [
       "20611.34"
      ]
     },
     "execution_count": 80,
     "metadata": {},
     "output_type": "execute_result"
    }
   ],
   "source": [
    "z1['Existing_Customer_growth_2016-2017'].sum()"
   ]
  },
  {
   "cell_type": "markdown",
   "id": "macro-conducting",
   "metadata": {},
   "source": [
    "# Observations:\n",
    "<b><br> Existing Customer Growth where Revenue 2016 - Revenue 2015 for customers present in both years is 20335.4 in Total</br></b>\n",
    "<b><br> Existing Customer Growth where Revenue 2017 - Revenue 2016 for customers present in both years is 20611.34 in Total </br></b>"
   ]
  },
  {
   "cell_type": "markdown",
   "id": "asian-disability",
   "metadata": {},
   "source": [
    "# Existing Customer Current Revenue\n",
    "##### Getting Total revenue in 2015 for customers which are also present in 2016"
   ]
  },
  {
   "cell_type": "code",
   "execution_count": 81,
   "id": "positive-banks",
   "metadata": {},
   "outputs": [
    {
     "data": {
      "text/plain": [
       "7465117.12"
      ]
     },
     "execution_count": 81,
     "metadata": {},
     "output_type": "execute_result"
    }
   ],
   "source": [
    "z['net_revenue_x'].sum()"
   ]
  },
  {
   "cell_type": "code",
   "execution_count": 82,
   "id": "smaller-tomato",
   "metadata": {},
   "outputs": [
    {
     "data": {
      "text/plain": [
       "7485452.58"
      ]
     },
     "execution_count": 82,
     "metadata": {},
     "output_type": "execute_result"
    }
   ],
   "source": [
    "z['net_revenue_y'].sum()"
   ]
  },
  {
   "cell_type": "markdown",
   "id": "noble-ancient",
   "metadata": {},
   "source": [
    "# Observations:\n",
    "<br> Total Revenue in 2015 for customers which are present in 2015 and 2016 both is 7.46 M </br>\n",
    "<br> Total Revenue in 2016 for customers which are present in 2015 and 2016 both is 7.48 M </br>"
   ]
  },
  {
   "cell_type": "markdown",
   "id": "loose-mercy",
   "metadata": {},
   "source": [
    "##### Getting Total revenue in 2016 for customers which are also present in 2017"
   ]
  },
  {
   "cell_type": "code",
   "execution_count": 83,
   "id": "reduced-heath",
   "metadata": {},
   "outputs": [
    {
     "data": {
      "text/plain": [
       "2620648.65"
      ]
     },
     "execution_count": 83,
     "metadata": {},
     "output_type": "execute_result"
    }
   ],
   "source": [
    "z1['net_revenue_x'].sum()"
   ]
  },
  {
   "cell_type": "code",
   "execution_count": 84,
   "id": "guilty-insurance",
   "metadata": {},
   "outputs": [
    {
     "data": {
      "text/plain": [
       "2641259.99"
      ]
     },
     "execution_count": 84,
     "metadata": {},
     "output_type": "execute_result"
    }
   ],
   "source": [
    "z1['net_revenue_y'].sum()"
   ]
  },
  {
   "cell_type": "markdown",
   "id": "written-pasta",
   "metadata": {},
   "source": [
    "# Observations:\n",
    "<br> Total Revenue in 2016 for customers which are present in 2017 and 2016 both is 2.62 M </br>\n",
    "<br> Total Revenue in 2017 for customers which are present in 2017 and 2016 both is 2.64 M </br>"
   ]
  },
  {
   "cell_type": "markdown",
   "id": "narrow-building",
   "metadata": {},
   "source": [
    "# Summary\n",
    "<br> Total Revenue in 2015 for customers which are present in 2015 and 2016 both is 7.46 M </br>\n",
    "<br> Total Revenue in 2016 for customers which are present in 2015 and 2016 both is 7.48 M </br>\n",
    "<br> Total Revenue in 2016 for customers which are present in 2017 and 2016 both is 2.62 M </br>\n",
    "<br> Total Revenue in 2017 for customers which are present in 2017 and 2016 both is 2.64 M </br>"
   ]
  },
  {
   "cell_type": "markdown",
   "id": "pursuant-paragraph",
   "metadata": {},
   "source": [
    "# Question: Revenue Lost from attrition\n",
    "## I am finding Revenue lost each year </b>"
   ]
  },
  {
   "cell_type": "code",
   "execution_count": 50,
   "id": "herbal-station",
   "metadata": {},
   "outputs": [
    {
     "data": {
      "text/html": [
       "<div>\n",
       "<style scoped>\n",
       "    .dataframe tbody tr th:only-of-type {\n",
       "        vertical-align: middle;\n",
       "    }\n",
       "\n",
       "    .dataframe tbody tr th {\n",
       "        vertical-align: top;\n",
       "    }\n",
       "\n",
       "    .dataframe thead th {\n",
       "        text-align: right;\n",
       "    }\n",
       "</style>\n",
       "<table border=\"1\" class=\"dataframe\">\n",
       "  <thead>\n",
       "    <tr style=\"text-align: right;\">\n",
       "      <th></th>\n",
       "      <th>year</th>\n",
       "      <th>net_revenue</th>\n",
       "    </tr>\n",
       "  </thead>\n",
       "  <tbody>\n",
       "    <tr>\n",
       "      <th>0</th>\n",
       "      <td>2015</td>\n",
       "      <td>29036749.19</td>\n",
       "    </tr>\n",
       "    <tr>\n",
       "      <th>1</th>\n",
       "      <td>2016</td>\n",
       "      <td>25730943.59</td>\n",
       "    </tr>\n",
       "    <tr>\n",
       "      <th>2</th>\n",
       "      <td>2017</td>\n",
       "      <td>31417495.03</td>\n",
       "    </tr>\n",
       "  </tbody>\n",
       "</table>\n",
       "</div>"
      ],
      "text/plain": [
       "   year  net_revenue\n",
       "0  2015  29036749.19\n",
       "1  2016  25730943.59\n",
       "2  2017  31417495.03"
      ]
     },
     "execution_count": 50,
     "metadata": {},
     "output_type": "execute_result"
    }
   ],
   "source": [
    "year_sales"
   ]
  },
  {
   "cell_type": "code",
   "execution_count": 51,
   "id": "sitting-holocaust",
   "metadata": {},
   "outputs": [],
   "source": [
    "year_sales['Difference']=0"
   ]
  },
  {
   "cell_type": "code",
   "execution_count": 52,
   "id": "failing-compact",
   "metadata": {},
   "outputs": [
    {
     "data": {
      "text/html": [
       "<div>\n",
       "<style scoped>\n",
       "    .dataframe tbody tr th:only-of-type {\n",
       "        vertical-align: middle;\n",
       "    }\n",
       "\n",
       "    .dataframe tbody tr th {\n",
       "        vertical-align: top;\n",
       "    }\n",
       "\n",
       "    .dataframe thead th {\n",
       "        text-align: right;\n",
       "    }\n",
       "</style>\n",
       "<table border=\"1\" class=\"dataframe\">\n",
       "  <thead>\n",
       "    <tr style=\"text-align: right;\">\n",
       "      <th></th>\n",
       "      <th>year</th>\n",
       "      <th>net_revenue</th>\n",
       "      <th>Difference</th>\n",
       "    </tr>\n",
       "  </thead>\n",
       "  <tbody>\n",
       "    <tr>\n",
       "      <th>0</th>\n",
       "      <td>2015</td>\n",
       "      <td>29036749.19</td>\n",
       "      <td>0</td>\n",
       "    </tr>\n",
       "    <tr>\n",
       "      <th>1</th>\n",
       "      <td>2016</td>\n",
       "      <td>25730943.59</td>\n",
       "      <td>0</td>\n",
       "    </tr>\n",
       "    <tr>\n",
       "      <th>2</th>\n",
       "      <td>2017</td>\n",
       "      <td>31417495.03</td>\n",
       "      <td>0</td>\n",
       "    </tr>\n",
       "  </tbody>\n",
       "</table>\n",
       "</div>"
      ],
      "text/plain": [
       "   year  net_revenue  Difference\n",
       "0  2015  29036749.19           0\n",
       "1  2016  25730943.59           0\n",
       "2  2017  31417495.03           0"
      ]
     },
     "execution_count": 52,
     "metadata": {},
     "output_type": "execute_result"
    }
   ],
   "source": [
    "year_sales"
   ]
  },
  {
   "cell_type": "code",
   "execution_count": 53,
   "id": "cosmetic-vitamin",
   "metadata": {},
   "outputs": [
    {
     "name": "stderr",
     "output_type": "stream",
     "text": [
      "C:\\Users\\shwer\\AppData\\Local\\Continuum\\anaconda3\\lib\\site-packages\\ipykernel_launcher.py:5: SettingWithCopyWarning: \n",
      "A value is trying to be set on a copy of a slice from a DataFrame\n",
      "\n",
      "See the caveats in the documentation: https://pandas.pydata.org/pandas-docs/stable/user_guide/indexing.html#returning-a-view-versus-a-copy\n",
      "  \"\"\"\n",
      "C:\\Users\\shwer\\AppData\\Local\\Continuum\\anaconda3\\lib\\site-packages\\ipykernel_launcher.py:7: SettingWithCopyWarning: \n",
      "A value is trying to be set on a copy of a slice from a DataFrame\n",
      "\n",
      "See the caveats in the documentation: https://pandas.pydata.org/pandas-docs/stable/user_guide/indexing.html#returning-a-view-versus-a-copy\n",
      "  import sys\n"
     ]
    }
   ],
   "source": [
    "for index,row in year_sales.iterrows():\n",
    "        if index == 0:\n",
    "            continue\n",
    "        elif row['year'] == 2016:\n",
    "            year_sales['Difference'][index] =year_sales['net_revenue'][index]-year_sales['net_revenue'][index-1]\n",
    "        else:\n",
    "            year_sales['Difference'][index] = year_sales['net_revenue'][index]-year_sales['net_revenue'][index-1]"
   ]
  },
  {
   "cell_type": "code",
   "execution_count": 54,
   "id": "middle-confusion",
   "metadata": {},
   "outputs": [
    {
     "data": {
      "text/html": [
       "<div>\n",
       "<style scoped>\n",
       "    .dataframe tbody tr th:only-of-type {\n",
       "        vertical-align: middle;\n",
       "    }\n",
       "\n",
       "    .dataframe tbody tr th {\n",
       "        vertical-align: top;\n",
       "    }\n",
       "\n",
       "    .dataframe thead th {\n",
       "        text-align: right;\n",
       "    }\n",
       "</style>\n",
       "<table border=\"1\" class=\"dataframe\">\n",
       "  <thead>\n",
       "    <tr style=\"text-align: right;\">\n",
       "      <th></th>\n",
       "      <th>year</th>\n",
       "      <th>net_revenue</th>\n",
       "      <th>Difference</th>\n",
       "    </tr>\n",
       "  </thead>\n",
       "  <tbody>\n",
       "    <tr>\n",
       "      <th>0</th>\n",
       "      <td>2015</td>\n",
       "      <td>29036749.19</td>\n",
       "      <td>0</td>\n",
       "    </tr>\n",
       "    <tr>\n",
       "      <th>1</th>\n",
       "      <td>2016</td>\n",
       "      <td>25730943.59</td>\n",
       "      <td>-3305805</td>\n",
       "    </tr>\n",
       "    <tr>\n",
       "      <th>2</th>\n",
       "      <td>2017</td>\n",
       "      <td>31417495.03</td>\n",
       "      <td>5686551</td>\n",
       "    </tr>\n",
       "  </tbody>\n",
       "</table>\n",
       "</div>"
      ],
      "text/plain": [
       "   year  net_revenue  Difference\n",
       "0  2015  29036749.19           0\n",
       "1  2016  25730943.59    -3305805\n",
       "2  2017  31417495.03     5686551"
      ]
     },
     "execution_count": 54,
     "metadata": {},
     "output_type": "execute_result"
    }
   ],
   "source": [
    "year_sales"
   ]
  },
  {
   "cell_type": "markdown",
   "id": "sought-empty",
   "metadata": {},
   "source": [
    "# Observations:\n",
    "<br><b> So Year 2016 made a loss of 3305805 of Net Revenue from year 2015</b> </br>\n",
    "<br><b> Year 2017 made a profit of 5686551 of Net Revenue from year 2016 </b></br>"
   ]
  },
  {
   "cell_type": "markdown",
   "id": "automated-right",
   "metadata": {},
   "source": [
    "# Now Answering the same question where Finding Total Revenue lost in the year 2016(Customers which are absent in year 2016 but present in 2015) and similarly for 2017"
   ]
  },
  {
   "cell_type": "code",
   "execution_count": 55,
   "id": "sweet-separate",
   "metadata": {},
   "outputs": [],
   "source": [
    "df=pd.read_csv(\"C:/Users/shwer/OneDrive/Desktop/archive/yearly_revenue_cust.csv\")\n",
    "l_2015=df[df['year']==2015]\n",
    "l_2016=df[df['year']==2016]\n",
    "l_2017=df[df['year']==2017]"
   ]
  },
  {
   "cell_type": "code",
   "execution_count": 56,
   "id": "czech-combining",
   "metadata": {},
   "outputs": [],
   "source": [
    "q=l_2015[~l_2015['customer_email'].isin(l_2016['customer_email'])]"
   ]
  },
  {
   "cell_type": "code",
   "execution_count": 57,
   "id": "serial-candle",
   "metadata": {},
   "outputs": [
    {
     "data": {
      "text/plain": [
       "21571632.069999997"
      ]
     },
     "execution_count": 57,
     "metadata": {},
     "output_type": "execute_result"
    }
   ],
   "source": [
    "q['net_revenue'].sum()"
   ]
  },
  {
   "cell_type": "code",
   "execution_count": 58,
   "id": "enormous-hayes",
   "metadata": {},
   "outputs": [],
   "source": [
    "q1=l_2016[~l_2016['customer_email'].isin(l_2017['customer_email'])]"
   ]
  },
  {
   "cell_type": "code",
   "execution_count": 59,
   "id": "waiting-morocco",
   "metadata": {},
   "outputs": [
    {
     "data": {
      "text/plain": [
       "23110294.94"
      ]
     },
     "execution_count": 59,
     "metadata": {},
     "output_type": "execute_result"
    }
   ],
   "source": [
    "q1['net_revenue'].sum()"
   ]
  },
  {
   "cell_type": "markdown",
   "id": "indonesian-tender",
   "metadata": {},
   "source": [
    "# Observations: \n",
    "<b><br>Revenue lost from customers which are present in 2015 but not in 2016 is 21 M </br></b>\n",
    "<b><br>Revenue lost from customers which are present in 2016 but not in 2017 is 23 M </br></b>"
   ]
  },
  {
   "cell_type": "markdown",
   "id": "third-click",
   "metadata": {},
   "source": [
    "# Finding customers which are present in all 3 years and contribute most to Net Revenue"
   ]
  },
  {
   "cell_type": "code",
   "execution_count": 60,
   "id": "satisfied-mitchell",
   "metadata": {},
   "outputs": [
    {
     "data": {
      "text/html": [
       "<div>\n",
       "<style scoped>\n",
       "    .dataframe tbody tr th:only-of-type {\n",
       "        vertical-align: middle;\n",
       "    }\n",
       "\n",
       "    .dataframe tbody tr th {\n",
       "        vertical-align: top;\n",
       "    }\n",
       "\n",
       "    .dataframe thead th {\n",
       "        text-align: right;\n",
       "    }\n",
       "</style>\n",
       "<table border=\"1\" class=\"dataframe\">\n",
       "  <thead>\n",
       "    <tr style=\"text-align: right;\">\n",
       "      <th></th>\n",
       "      <th>year_x</th>\n",
       "      <th>customer_email</th>\n",
       "      <th>net_revenue_x</th>\n",
       "      <th>year_y</th>\n",
       "      <th>net_revenue_y</th>\n",
       "      <th>Existing_Customer_growth</th>\n",
       "      <th>year</th>\n",
       "      <th>net_revenue</th>\n",
       "      <th>Existing_Customer_growth_2016-2017</th>\n",
       "    </tr>\n",
       "  </thead>\n",
       "  <tbody>\n",
       "    <tr>\n",
       "      <th>0</th>\n",
       "      <td>2015</td>\n",
       "      <td>aabmjtmoae@gmail.com</td>\n",
       "      <td>59.73</td>\n",
       "      <td>2016</td>\n",
       "      <td>124.29</td>\n",
       "      <td>64.56</td>\n",
       "      <td>2017</td>\n",
       "      <td>64.32</td>\n",
       "      <td>-59.97</td>\n",
       "    </tr>\n",
       "    <tr>\n",
       "      <th>1</th>\n",
       "      <td>2015</td>\n",
       "      <td>aabokiywci@gmail.com</td>\n",
       "      <td>122.25</td>\n",
       "      <td>2016</td>\n",
       "      <td>9.95</td>\n",
       "      <td>-112.30</td>\n",
       "      <td>2017</td>\n",
       "      <td>119.83</td>\n",
       "      <td>109.88</td>\n",
       "    </tr>\n",
       "    <tr>\n",
       "      <th>2</th>\n",
       "      <td>2015</td>\n",
       "      <td>aabuefrfjq@gmail.com</td>\n",
       "      <td>195.34</td>\n",
       "      <td>2016</td>\n",
       "      <td>131.22</td>\n",
       "      <td>-64.12</td>\n",
       "      <td>2017</td>\n",
       "      <td>84.30</td>\n",
       "      <td>-46.92</td>\n",
       "    </tr>\n",
       "    <tr>\n",
       "      <th>3</th>\n",
       "      <td>2015</td>\n",
       "      <td>aacpbgkntc@gmail.com</td>\n",
       "      <td>196.85</td>\n",
       "      <td>2016</td>\n",
       "      <td>136.06</td>\n",
       "      <td>-60.79</td>\n",
       "      <td>2017</td>\n",
       "      <td>8.28</td>\n",
       "      <td>-127.78</td>\n",
       "    </tr>\n",
       "    <tr>\n",
       "      <th>4</th>\n",
       "      <td>2015</td>\n",
       "      <td>aadbgmnypp@gmail.com</td>\n",
       "      <td>150.21</td>\n",
       "      <td>2016</td>\n",
       "      <td>86.82</td>\n",
       "      <td>-63.39</td>\n",
       "      <td>2017</td>\n",
       "      <td>115.23</td>\n",
       "      <td>28.41</td>\n",
       "    </tr>\n",
       "    <tr>\n",
       "      <th>...</th>\n",
       "      <td>...</td>\n",
       "      <td>...</td>\n",
       "      <td>...</td>\n",
       "      <td>...</td>\n",
       "      <td>...</td>\n",
       "      <td>...</td>\n",
       "      <td>...</td>\n",
       "      <td>...</td>\n",
       "      <td>...</td>\n",
       "    </tr>\n",
       "    <tr>\n",
       "      <th>6157</th>\n",
       "      <td>2015</td>\n",
       "      <td>zzmqwqrevt@gmail.com</td>\n",
       "      <td>7.02</td>\n",
       "      <td>2016</td>\n",
       "      <td>91.56</td>\n",
       "      <td>84.54</td>\n",
       "      <td>2017</td>\n",
       "      <td>14.63</td>\n",
       "      <td>-76.93</td>\n",
       "    </tr>\n",
       "    <tr>\n",
       "      <th>6158</th>\n",
       "      <td>2015</td>\n",
       "      <td>zzpgdjqokk@gmail.com</td>\n",
       "      <td>157.73</td>\n",
       "      <td>2016</td>\n",
       "      <td>175.38</td>\n",
       "      <td>17.65</td>\n",
       "      <td>2017</td>\n",
       "      <td>131.23</td>\n",
       "      <td>-44.15</td>\n",
       "    </tr>\n",
       "    <tr>\n",
       "      <th>6159</th>\n",
       "      <td>2015</td>\n",
       "      <td>zzshbuaipi@gmail.com</td>\n",
       "      <td>130.77</td>\n",
       "      <td>2016</td>\n",
       "      <td>105.68</td>\n",
       "      <td>-25.09</td>\n",
       "      <td>2017</td>\n",
       "      <td>45.12</td>\n",
       "      <td>-60.56</td>\n",
       "    </tr>\n",
       "    <tr>\n",
       "      <th>6160</th>\n",
       "      <td>2015</td>\n",
       "      <td>zzvasxeybi@gmail.com</td>\n",
       "      <td>157.56</td>\n",
       "      <td>2016</td>\n",
       "      <td>11.88</td>\n",
       "      <td>-145.68</td>\n",
       "      <td>2017</td>\n",
       "      <td>237.84</td>\n",
       "      <td>225.96</td>\n",
       "    </tr>\n",
       "    <tr>\n",
       "      <th>6161</th>\n",
       "      <td>2015</td>\n",
       "      <td>zzvgdegvtp@gmail.com</td>\n",
       "      <td>241.64</td>\n",
       "      <td>2016</td>\n",
       "      <td>79.93</td>\n",
       "      <td>-161.71</td>\n",
       "      <td>2017</td>\n",
       "      <td>107.59</td>\n",
       "      <td>27.66</td>\n",
       "    </tr>\n",
       "  </tbody>\n",
       "</table>\n",
       "<p>6162 rows × 9 columns</p>\n",
       "</div>"
      ],
      "text/plain": [
       "      year_x        customer_email  net_revenue_x  year_y  net_revenue_y  \\\n",
       "0       2015  aabmjtmoae@gmail.com          59.73    2016         124.29   \n",
       "1       2015  aabokiywci@gmail.com         122.25    2016           9.95   \n",
       "2       2015  aabuefrfjq@gmail.com         195.34    2016         131.22   \n",
       "3       2015  aacpbgkntc@gmail.com         196.85    2016         136.06   \n",
       "4       2015  aadbgmnypp@gmail.com         150.21    2016          86.82   \n",
       "...      ...                   ...            ...     ...            ...   \n",
       "6157    2015  zzmqwqrevt@gmail.com           7.02    2016          91.56   \n",
       "6158    2015  zzpgdjqokk@gmail.com         157.73    2016         175.38   \n",
       "6159    2015  zzshbuaipi@gmail.com         130.77    2016         105.68   \n",
       "6160    2015  zzvasxeybi@gmail.com         157.56    2016          11.88   \n",
       "6161    2015  zzvgdegvtp@gmail.com         241.64    2016          79.93   \n",
       "\n",
       "      Existing_Customer_growth  year  net_revenue  \\\n",
       "0                        64.56  2017        64.32   \n",
       "1                      -112.30  2017       119.83   \n",
       "2                       -64.12  2017        84.30   \n",
       "3                       -60.79  2017         8.28   \n",
       "4                       -63.39  2017       115.23   \n",
       "...                        ...   ...          ...   \n",
       "6157                     84.54  2017        14.63   \n",
       "6158                     17.65  2017       131.23   \n",
       "6159                    -25.09  2017        45.12   \n",
       "6160                   -145.68  2017       237.84   \n",
       "6161                   -161.71  2017       107.59   \n",
       "\n",
       "      Existing_Customer_growth_2016-2017  \n",
       "0                                 -59.97  \n",
       "1                                 109.88  \n",
       "2                                 -46.92  \n",
       "3                                -127.78  \n",
       "4                                  28.41  \n",
       "...                                  ...  \n",
       "6157                              -76.93  \n",
       "6158                              -44.15  \n",
       "6159                              -60.56  \n",
       "6160                              225.96  \n",
       "6161                               27.66  \n",
       "\n",
       "[6162 rows x 9 columns]"
      ]
     },
     "execution_count": 60,
     "metadata": {},
     "output_type": "execute_result"
    }
   ],
   "source": [
    "z1"
   ]
  },
  {
   "cell_type": "code",
   "execution_count": 61,
   "id": "incorrect-bunch",
   "metadata": {},
   "outputs": [],
   "source": [
    "z1['Total_revenue']=z1['net_revenue_x']+ z1['net_revenue_y']+z1['net_revenue']"
   ]
  },
  {
   "cell_type": "code",
   "execution_count": 62,
   "id": "another-variable",
   "metadata": {},
   "outputs": [
    {
     "data": {
      "text/html": [
       "<div>\n",
       "<style scoped>\n",
       "    .dataframe tbody tr th:only-of-type {\n",
       "        vertical-align: middle;\n",
       "    }\n",
       "\n",
       "    .dataframe tbody tr th {\n",
       "        vertical-align: top;\n",
       "    }\n",
       "\n",
       "    .dataframe thead th {\n",
       "        text-align: right;\n",
       "    }\n",
       "</style>\n",
       "<table border=\"1\" class=\"dataframe\">\n",
       "  <thead>\n",
       "    <tr style=\"text-align: right;\">\n",
       "      <th></th>\n",
       "      <th>year_x</th>\n",
       "      <th>customer_email</th>\n",
       "      <th>net_revenue_x</th>\n",
       "      <th>year_y</th>\n",
       "      <th>net_revenue_y</th>\n",
       "      <th>Existing_Customer_growth</th>\n",
       "      <th>year</th>\n",
       "      <th>net_revenue</th>\n",
       "      <th>Existing_Customer_growth_2016-2017</th>\n",
       "      <th>Total_revenue</th>\n",
       "    </tr>\n",
       "  </thead>\n",
       "  <tbody>\n",
       "    <tr>\n",
       "      <th>0</th>\n",
       "      <td>2015</td>\n",
       "      <td>aabmjtmoae@gmail.com</td>\n",
       "      <td>59.73</td>\n",
       "      <td>2016</td>\n",
       "      <td>124.29</td>\n",
       "      <td>64.56</td>\n",
       "      <td>2017</td>\n",
       "      <td>64.32</td>\n",
       "      <td>-59.97</td>\n",
       "      <td>248.34</td>\n",
       "    </tr>\n",
       "    <tr>\n",
       "      <th>1</th>\n",
       "      <td>2015</td>\n",
       "      <td>aabokiywci@gmail.com</td>\n",
       "      <td>122.25</td>\n",
       "      <td>2016</td>\n",
       "      <td>9.95</td>\n",
       "      <td>-112.30</td>\n",
       "      <td>2017</td>\n",
       "      <td>119.83</td>\n",
       "      <td>109.88</td>\n",
       "      <td>252.03</td>\n",
       "    </tr>\n",
       "    <tr>\n",
       "      <th>2</th>\n",
       "      <td>2015</td>\n",
       "      <td>aabuefrfjq@gmail.com</td>\n",
       "      <td>195.34</td>\n",
       "      <td>2016</td>\n",
       "      <td>131.22</td>\n",
       "      <td>-64.12</td>\n",
       "      <td>2017</td>\n",
       "      <td>84.30</td>\n",
       "      <td>-46.92</td>\n",
       "      <td>410.86</td>\n",
       "    </tr>\n",
       "    <tr>\n",
       "      <th>3</th>\n",
       "      <td>2015</td>\n",
       "      <td>aacpbgkntc@gmail.com</td>\n",
       "      <td>196.85</td>\n",
       "      <td>2016</td>\n",
       "      <td>136.06</td>\n",
       "      <td>-60.79</td>\n",
       "      <td>2017</td>\n",
       "      <td>8.28</td>\n",
       "      <td>-127.78</td>\n",
       "      <td>341.19</td>\n",
       "    </tr>\n",
       "    <tr>\n",
       "      <th>4</th>\n",
       "      <td>2015</td>\n",
       "      <td>aadbgmnypp@gmail.com</td>\n",
       "      <td>150.21</td>\n",
       "      <td>2016</td>\n",
       "      <td>86.82</td>\n",
       "      <td>-63.39</td>\n",
       "      <td>2017</td>\n",
       "      <td>115.23</td>\n",
       "      <td>28.41</td>\n",
       "      <td>352.26</td>\n",
       "    </tr>\n",
       "    <tr>\n",
       "      <th>...</th>\n",
       "      <td>...</td>\n",
       "      <td>...</td>\n",
       "      <td>...</td>\n",
       "      <td>...</td>\n",
       "      <td>...</td>\n",
       "      <td>...</td>\n",
       "      <td>...</td>\n",
       "      <td>...</td>\n",
       "      <td>...</td>\n",
       "      <td>...</td>\n",
       "    </tr>\n",
       "    <tr>\n",
       "      <th>6157</th>\n",
       "      <td>2015</td>\n",
       "      <td>zzmqwqrevt@gmail.com</td>\n",
       "      <td>7.02</td>\n",
       "      <td>2016</td>\n",
       "      <td>91.56</td>\n",
       "      <td>84.54</td>\n",
       "      <td>2017</td>\n",
       "      <td>14.63</td>\n",
       "      <td>-76.93</td>\n",
       "      <td>113.21</td>\n",
       "    </tr>\n",
       "    <tr>\n",
       "      <th>6158</th>\n",
       "      <td>2015</td>\n",
       "      <td>zzpgdjqokk@gmail.com</td>\n",
       "      <td>157.73</td>\n",
       "      <td>2016</td>\n",
       "      <td>175.38</td>\n",
       "      <td>17.65</td>\n",
       "      <td>2017</td>\n",
       "      <td>131.23</td>\n",
       "      <td>-44.15</td>\n",
       "      <td>464.34</td>\n",
       "    </tr>\n",
       "    <tr>\n",
       "      <th>6159</th>\n",
       "      <td>2015</td>\n",
       "      <td>zzshbuaipi@gmail.com</td>\n",
       "      <td>130.77</td>\n",
       "      <td>2016</td>\n",
       "      <td>105.68</td>\n",
       "      <td>-25.09</td>\n",
       "      <td>2017</td>\n",
       "      <td>45.12</td>\n",
       "      <td>-60.56</td>\n",
       "      <td>281.57</td>\n",
       "    </tr>\n",
       "    <tr>\n",
       "      <th>6160</th>\n",
       "      <td>2015</td>\n",
       "      <td>zzvasxeybi@gmail.com</td>\n",
       "      <td>157.56</td>\n",
       "      <td>2016</td>\n",
       "      <td>11.88</td>\n",
       "      <td>-145.68</td>\n",
       "      <td>2017</td>\n",
       "      <td>237.84</td>\n",
       "      <td>225.96</td>\n",
       "      <td>407.28</td>\n",
       "    </tr>\n",
       "    <tr>\n",
       "      <th>6161</th>\n",
       "      <td>2015</td>\n",
       "      <td>zzvgdegvtp@gmail.com</td>\n",
       "      <td>241.64</td>\n",
       "      <td>2016</td>\n",
       "      <td>79.93</td>\n",
       "      <td>-161.71</td>\n",
       "      <td>2017</td>\n",
       "      <td>107.59</td>\n",
       "      <td>27.66</td>\n",
       "      <td>429.16</td>\n",
       "    </tr>\n",
       "  </tbody>\n",
       "</table>\n",
       "<p>6162 rows × 10 columns</p>\n",
       "</div>"
      ],
      "text/plain": [
       "      year_x        customer_email  net_revenue_x  year_y  net_revenue_y  \\\n",
       "0       2015  aabmjtmoae@gmail.com          59.73    2016         124.29   \n",
       "1       2015  aabokiywci@gmail.com         122.25    2016           9.95   \n",
       "2       2015  aabuefrfjq@gmail.com         195.34    2016         131.22   \n",
       "3       2015  aacpbgkntc@gmail.com         196.85    2016         136.06   \n",
       "4       2015  aadbgmnypp@gmail.com         150.21    2016          86.82   \n",
       "...      ...                   ...            ...     ...            ...   \n",
       "6157    2015  zzmqwqrevt@gmail.com           7.02    2016          91.56   \n",
       "6158    2015  zzpgdjqokk@gmail.com         157.73    2016         175.38   \n",
       "6159    2015  zzshbuaipi@gmail.com         130.77    2016         105.68   \n",
       "6160    2015  zzvasxeybi@gmail.com         157.56    2016          11.88   \n",
       "6161    2015  zzvgdegvtp@gmail.com         241.64    2016          79.93   \n",
       "\n",
       "      Existing_Customer_growth  year  net_revenue  \\\n",
       "0                        64.56  2017        64.32   \n",
       "1                      -112.30  2017       119.83   \n",
       "2                       -64.12  2017        84.30   \n",
       "3                       -60.79  2017         8.28   \n",
       "4                       -63.39  2017       115.23   \n",
       "...                        ...   ...          ...   \n",
       "6157                     84.54  2017        14.63   \n",
       "6158                     17.65  2017       131.23   \n",
       "6159                    -25.09  2017        45.12   \n",
       "6160                   -145.68  2017       237.84   \n",
       "6161                   -161.71  2017       107.59   \n",
       "\n",
       "      Existing_Customer_growth_2016-2017  Total_revenue  \n",
       "0                                 -59.97         248.34  \n",
       "1                                 109.88         252.03  \n",
       "2                                 -46.92         410.86  \n",
       "3                                -127.78         341.19  \n",
       "4                                  28.41         352.26  \n",
       "...                                  ...            ...  \n",
       "6157                              -76.93         113.21  \n",
       "6158                              -44.15         464.34  \n",
       "6159                              -60.56         281.57  \n",
       "6160                              225.96         407.28  \n",
       "6161                               27.66         429.16  \n",
       "\n",
       "[6162 rows x 10 columns]"
      ]
     },
     "execution_count": 62,
     "metadata": {},
     "output_type": "execute_result"
    }
   ],
   "source": [
    "z1"
   ]
  },
  {
   "cell_type": "code",
   "execution_count": 65,
   "id": "prime-innocent",
   "metadata": {},
   "outputs": [],
   "source": [
    "d=z1.sort_values(by='Total_revenue', ascending=False)"
   ]
  },
  {
   "cell_type": "code",
   "execution_count": 69,
   "id": "transparent-lesson",
   "metadata": {},
   "outputs": [],
   "source": [
    "c=d.head(5)"
   ]
  },
  {
   "cell_type": "code",
   "execution_count": 72,
   "id": "proof-majority",
   "metadata": {},
   "outputs": [
    {
     "data": {
      "text/plain": [
       "[Text(0, 0, 'awldtrazam@gmail.com'),\n",
       " Text(1, 0, 'snpikuedpq@gmail.com'),\n",
       " Text(2, 0, 'nieubgwpeb@gmail.com'),\n",
       " Text(3, 0, 'cygnefefnq@gmail.com'),\n",
       " Text(4, 0, 'iwhmalcmaa@gmail.com')]"
      ]
     },
     "execution_count": 72,
     "metadata": {},
     "output_type": "execute_result"
    },
    {
     "data": {
      "image/png": "[encoded data removed]",
      "text/plain": [
       "<Figure size 720x360 with 1 Axes>"
      ]
     },
     "metadata": {
      "needs_background": "light"
     },
     "output_type": "display_data"
    }
   ],
   "source": [
    "# Reference: https://drawingfromdata.com/seaborn/matplotlib/visualization/rotate-axis-labels-matplotlib-seaborn.html\n",
    "plt.figure(figsize=(10,5))\n",
    "chart = sns.barplot(x='customer_email',y='Total_revenue',data=c)\n",
    "chart.set_xticklabels(chart.get_xticklabels(), rotation=45,fontsize='x-large')"
   ]
  },
  {
   "cell_type": "markdown",
   "id": "colonial-theme",
   "metadata": {},
   "source": [
    "# Observations:\n",
    "<br> These 5 customers are there for 3 years and contribute most to the Net_Revenue </br> "
   ]
  },
  {
   "cell_type": "code",
   "execution_count": null,
   "id": "regulation-wright",
   "metadata": {},
   "outputs": [],
   "source": []
  }
 ],
 "metadata": {
  "kernelspec": {
   "display_name": "Python 3",
   "language": "python",
   "name": "python3"
  },
  "language_info": {
   "codemirror_mode": {
    "name": "ipython",
    "version": 3
   },
   "file_extension": ".py",
   "mimetype": "text/x-python",
   "name": "python",
   "nbconvert_exporter": "python",
   "pygments_lexer": "ipython3",
   "version": "3.7.7"
  }
 },
 "nbformat": 4,
 "nbformat_minor": 5
}
